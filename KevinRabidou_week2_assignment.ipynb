{
 "cells": [
  {
   "cell_type": "markdown",
   "id": "edb3dba0-f08a-4a39-b917-4cf4551d73a0",
   "metadata": {},
   "source": [
    "## ANA-522 \n",
    "## Week 2 Assignment\n",
    "## Due: Sunday at midnight\n",
    "\n",
    "#### Submit your work as a *.ipynb* notebook file on blackboard.\n",
    "#### Please name your *.ipynb* file using the following format: Firstname_week2_assignment.ipynb\n",
    "\n",
    "<font color=red>All code must be executed</font>"
   ]
  },
  {
   "cell_type": "markdown",
   "id": "3795cf6a",
   "metadata": {},
   "source": [
    "<br>"
   ]
  },
  {
   "cell_type": "markdown",
   "id": "777b19cc",
   "metadata": {},
   "source": [
    "## Q1. Tuple Exercise"
   ]
  },
  {
   "cell_type": "markdown",
   "id": "da65db37",
   "metadata": {},
   "source": [
    "A tuple is one of the four inbuilt data types used to store collections in Python. Unlike other data types, the elements in tuples are ordered and immutable.\n",
    "\n"
   ]
  },
  {
   "cell_type": "markdown",
   "id": "ef2c8298",
   "metadata": {},
   "source": [
    "In this exercise, you'll explore the basic operations and functionalities associated with tuples. You are expected to:\n",
    "\n",
    "+ Initialize a variable with a tuple of numeric values.\n",
    "+ Understand the immutable nature of tuples by trying various operations.\n",
    "+ Access, slice, and iterate through the elements in the tuple.\n",
    "+ Determine the length and other characteristics of the tuple."
   ]
  },
  {
   "cell_type": "code",
   "execution_count": 24,
   "id": "afb63b5a",
   "metadata": {},
   "outputs": [],
   "source": [
    "# Given a tuple:\n",
    "tuple1 = (10, 20, 30, 40, 50, 60, 70, 80, 90, 100)"
   ]
  },
  {
   "cell_type": "code",
   "execution_count": 25,
   "id": "3c978e21",
   "metadata": {},
   "outputs": [
    {
     "data": {
      "text/plain": [
       "(100, 90, 80, 70, 60, 50, 40, 30, 20, 10)"
      ]
     },
     "execution_count": 25,
     "metadata": {},
     "output_type": "execute_result"
    }
   ],
   "source": [
    "# a. Reverse the tuple\n",
    "tuple1[::-1]\n"
   ]
  },
  {
   "cell_type": "code",
   "execution_count": 26,
   "id": "38b97537",
   "metadata": {},
   "outputs": [
    {
     "data": {
      "text/plain": [
       "90"
      ]
     },
     "execution_count": 26,
     "metadata": {},
     "output_type": "execute_result"
    }
   ],
   "source": [
    "# b. Display the second last element of the tuple.\n",
    "tuple1[len(tuple1)-2]"
   ]
  },
  {
   "cell_type": "code",
   "execution_count": 27,
   "id": "f234c811",
   "metadata": {},
   "outputs": [
    {
     "name": "stdout",
     "output_type": "stream",
     "text": [
      "10\n",
      "20\n",
      "30\n",
      "40\n",
      "50\n",
      "60\n",
      "70\n",
      "80\n",
      "90\n",
      "100\n"
     ]
    }
   ],
   "source": [
    "# c. Iterate through each element in the tuple.\n",
    "for i in tuple1:\n",
    "    print(i)\n"
   ]
  },
  {
   "cell_type": "code",
   "execution_count": 28,
   "id": "8d5be44c",
   "metadata": {},
   "outputs": [
    {
     "data": {
      "text/plain": [
       "10"
      ]
     },
     "execution_count": 28,
     "metadata": {},
     "output_type": "execute_result"
    }
   ],
   "source": [
    "# d. Determine and print the length of the tuple.\n",
    "len(tuple1)\n"
   ]
  },
  {
   "cell_type": "code",
   "execution_count": 29,
   "id": "9760c6fd",
   "metadata": {},
   "outputs": [
    {
     "data": {
      "text/plain": [
       "(20, 30, 40, 50, 60)"
      ]
     },
     "execution_count": 29,
     "metadata": {},
     "output_type": "execute_result"
    }
   ],
   "source": [
    "# e. Display elements from index 1 to index 5.\n",
    "tuple1[1:6]\n"
   ]
  },
  {
   "cell_type": "code",
   "execution_count": 30,
   "id": "53995299",
   "metadata": {},
   "outputs": [
    {
     "data": {
      "text/plain": [
       "(10, 30, 50, 70, 90)"
      ]
     },
     "execution_count": 30,
     "metadata": {},
     "output_type": "execute_result"
    }
   ],
   "source": [
    "# f. Display elements from the start to the end of the tuple using a step size of 2.\n",
    "tuple1[::2]\n"
   ]
  },
  {
   "cell_type": "markdown",
   "id": "ec4b0458",
   "metadata": {},
   "source": [
    "<br>"
   ]
  },
  {
   "cell_type": "markdown",
   "id": "8478ac78",
   "metadata": {},
   "source": [
    "## Q2. Set Exercise"
   ]
  },
  {
   "cell_type": "markdown",
   "id": "18d31fec",
   "metadata": {},
   "source": [
    "#### Set Exercise - Part 1:\n",
    "\n",
    "Given two sets of fruits \n",
    "Perform the following tasks:\n",
    "\n",
    "- a. Find the intersection of `set1` and `set2` (i.e., fruits that appear in both sets).\n",
    "- b. Find the union of `set1` and `set2` (i.e., all unique fruits from both sets).\n",
    "- c. Find the difference between `set1` and `set2` (i.e., fruits that are in `set1` but not in `set2`).\n",
    "- d. Determine if `set1` is a subset of `set2`."
   ]
  },
  {
   "cell_type": "code",
   "execution_count": 31,
   "id": "adeb1777",
   "metadata": {},
   "outputs": [],
   "source": [
    "set1 = {\"Apple\", \"Banana\", \"Cherry\", \"Date\", \"Fig\"}\n",
    "set2 = {\"Cherry\", \"Date\", \"Grape\", \"Kiwi\", \"Mango\"}"
   ]
  },
  {
   "cell_type": "code",
   "execution_count": 32,
   "id": "7fdc9621",
   "metadata": {},
   "outputs": [
    {
     "data": {
      "text/plain": [
       "{'Cherry', 'Date'}"
      ]
     },
     "execution_count": 32,
     "metadata": {},
     "output_type": "execute_result"
    }
   ],
   "source": [
    "#a. Intersection\n",
    "set1.intersection(set2)"
   ]
  },
  {
   "cell_type": "code",
   "execution_count": 33,
   "id": "f7d69920",
   "metadata": {},
   "outputs": [
    {
     "data": {
      "text/plain": [
       "{'Apple', 'Banana', 'Cherry', 'Date', 'Fig', 'Grape', 'Kiwi', 'Mango'}"
      ]
     },
     "execution_count": 33,
     "metadata": {},
     "output_type": "execute_result"
    }
   ],
   "source": [
    "#b. Union\n",
    "set1.union(set2)"
   ]
  },
  {
   "cell_type": "code",
   "execution_count": 34,
   "id": "9e2e95a5",
   "metadata": {},
   "outputs": [
    {
     "data": {
      "text/plain": [
       "{'Apple', 'Banana', 'Fig'}"
      ]
     },
     "execution_count": 34,
     "metadata": {},
     "output_type": "execute_result"
    }
   ],
   "source": [
    "#c. Difference\n",
    "set1 - set2"
   ]
  },
  {
   "cell_type": "code",
   "execution_count": 35,
   "id": "7cc6c029",
   "metadata": {},
   "outputs": [
    {
     "data": {
      "text/plain": [
       "{'Apple', 'Banana', 'Fig'}"
      ]
     },
     "execution_count": 35,
     "metadata": {},
     "output_type": "execute_result"
    }
   ],
   "source": [
    "#Another way to find the difference\n",
    "set1.difference(set2)"
   ]
  },
  {
   "cell_type": "code",
   "execution_count": 36,
   "id": "27c65aa6",
   "metadata": {},
   "outputs": [
    {
     "data": {
      "text/plain": [
       "False"
      ]
     },
     "execution_count": 36,
     "metadata": {},
     "output_type": "execute_result"
    }
   ],
   "source": [
    "#d. Subset check\n",
    "set1.issubset(set2)"
   ]
  },
  {
   "cell_type": "markdown",
   "id": "9854d269",
   "metadata": {},
   "source": [
    "#### Set Exercise - Part 2: Identify the fruits that occur more than once in the following list:"
   ]
  },
  {
   "cell_type": "code",
   "execution_count": 37,
   "id": "82c3d3ae",
   "metadata": {},
   "outputs": [],
   "source": [
    "A = \"Apple, Banana, Cherry, Apple, Apple, Grape, Cherry, Pear, Mango, Kiwi, Kiwi\""
   ]
  },
  {
   "cell_type": "code",
   "execution_count": 38,
   "id": "90ff6915",
   "metadata": {},
   "outputs": [],
   "source": [
    "# I adjusted into a list B then ran a for loop to group all fruits that have multiple occurences\n",
    "# Was having trouble manipulating the origianl set 'A' with a loop"
   ]
  },
  {
   "cell_type": "code",
   "execution_count": 39,
   "id": "95172b38",
   "metadata": {},
   "outputs": [],
   "source": [
    "B = ['Apple', 'Banana', 'Cherry', 'Apple', 'Apple', 'Grape', 'Cherry', 'Pear', 'Mango', 'Kiwi', 'Kiwi']"
   ]
  },
  {
   "cell_type": "code",
   "execution_count": 40,
   "id": "24d8cd01",
   "metadata": {},
   "outputs": [],
   "source": [
    "x = []\n",
    "for fruit in B:\n",
    "    if B.count(fruit) > 1:\n",
    "       x.append(fruit) \n",
    "unique_B = set(x) "
   ]
  },
  {
   "cell_type": "code",
   "execution_count": 41,
   "id": "8e64c0ec",
   "metadata": {},
   "outputs": [
    {
     "name": "stdout",
     "output_type": "stream",
     "text": [
      "The following fruits are on the list more than once\n",
      "Kiwi  is on the list  2 times\n",
      "Apple  is on the list  3 times\n",
      "Cherry  is on the list  2 times\n"
     ]
    }
   ],
   "source": [
    "print(\"The following fruits are on the list more than once\")\n",
    "for i in unique_B:\n",
    "    print(i, \" is on the list \", B.count(i), \"times\")"
   ]
  },
  {
   "cell_type": "markdown",
   "id": "e7a51d7b",
   "metadata": {},
   "source": [
    "<br>"
   ]
  },
  {
   "cell_type": "markdown",
   "id": "4e4e1880-798e-4d47-afc9-6d6bc1c6c342",
   "metadata": {},
   "source": [
    "## Q3. List Exercise\n",
    "Lists help programmers manage larger amounts of data by allowing several (or even\n",
    "many) values to be stored in one variable. This makes it practical to solve larger\n",
    "problems that involve many data values. You are expected to:   \n",
    "\n",
    "+ Create a variable that holds a list of values\n",
    "+ Modify a list by appending, inserting, updating and deleting elements\n",
    "+ Search a list for a value\n",
    "+ Display some or all of the values in a list"
   ]
  },
  {
   "cell_type": "code",
   "execution_count": 45,
   "id": "b8b2a5a6",
   "metadata": {},
   "outputs": [],
   "source": [
    "# a. Create a list named fruits \n",
    "# containing the following values: \"Apple\", \"Banana\", \"Cherry\", \"Date\", \"Fig\".\n",
    "\n",
    "fruits = ['Apple', 'Banana', 'Cherry', 'Date', 'Fig']"
   ]
  },
  {
   "cell_type": "code",
   "execution_count": 46,
   "id": "d70a5850",
   "metadata": {},
   "outputs": [
    {
     "data": {
      "text/plain": [
       "['Apple', 'Banana', 'Cherry', 'Date', 'Fig', 'Grape']"
      ]
     },
     "execution_count": 46,
     "metadata": {},
     "output_type": "execute_result"
    }
   ],
   "source": [
    "# b. Append \"Grape\" to the fruits list.\n",
    "fruits.append('Grape')\n",
    "fruits"
   ]
  },
  {
   "cell_type": "code",
   "execution_count": 47,
   "id": "40fab29b",
   "metadata": {},
   "outputs": [
    {
     "data": {
      "text/plain": [
       "['Apple', 'Apricot', 'Banana', 'Cherry', 'Date', 'Fig', 'Grape']"
      ]
     },
     "execution_count": 47,
     "metadata": {},
     "output_type": "execute_result"
    }
   ],
   "source": [
    "# c. Insert \"Apricot\" between \"Apple\" and \"Banana\" in the fruits list.\n",
    "fruits.insert(1,'Apricot')\n",
    "fruits"
   ]
  },
  {
   "cell_type": "code",
   "execution_count": 49,
   "id": "673d39d0",
   "metadata": {},
   "outputs": [
    {
     "data": {
      "text/plain": [
       "['Apple', 'Apricot', 'Banana', 'Cherry', 'Dragonfruit', 'Fig', 'Grape']"
      ]
     },
     "execution_count": 49,
     "metadata": {},
     "output_type": "execute_result"
    }
   ],
   "source": [
    "# d. Update the value \"Date\" to \"Dragonfruit\" in the fruits list.\n",
    "fruits[4] = 'Dragonfruit'\n",
    "fruits"
   ]
  },
  {
   "cell_type": "code",
   "execution_count": 50,
   "id": "6ec5a91e",
   "metadata": {},
   "outputs": [
    {
     "data": {
      "text/plain": [
       "['Apple', 'Apricot', 'Banana', 'Dragonfruit', 'Fig', 'Grape']"
      ]
     },
     "execution_count": 50,
     "metadata": {},
     "output_type": "execute_result"
    }
   ],
   "source": [
    "# e. Remove \"Cherry\" from the fruits list.\n",
    "fruits.remove('Cherry')\n",
    "fruits"
   ]
  },
  {
   "cell_type": "code",
   "execution_count": 51,
   "id": "cbc173c9",
   "metadata": {},
   "outputs": [
    {
     "data": {
      "text/plain": [
       "2"
      ]
     },
     "execution_count": 51,
     "metadata": {},
     "output_type": "execute_result"
    }
   ],
   "source": [
    "# f. Search for \"Banana\" in the fruits list and print its index.\n",
    "fruits.index('Banana')"
   ]
  },
  {
   "cell_type": "code",
   "execution_count": 52,
   "id": "aa67f5dc",
   "metadata": {},
   "outputs": [
    {
     "data": {
      "text/plain": [
       "'Banana'"
      ]
     },
     "execution_count": 52,
     "metadata": {},
     "output_type": "execute_result"
    }
   ],
   "source": [
    "# g. Display the third element of the fruits list.\n",
    "# The third element of the list has index of 2\n",
    "fruits[2]\n",
    "#if looking for the element with index of 3 then we would just call fruits[3] which woudl yield 'Dragonfruit'"
   ]
  },
  {
   "cell_type": "code",
   "execution_count": 53,
   "id": "a1e86856",
   "metadata": {},
   "outputs": [
    {
     "data": {
      "text/plain": [
       "['Banana', 'Dragonfruit', 'Fig', 'Grape']"
      ]
     },
     "execution_count": 53,
     "metadata": {},
     "output_type": "execute_result"
    }
   ],
   "source": [
    "# h. Display elements from index 2 to index 5 of the fruits list.\n",
    "fruits[2:6]"
   ]
  },
  {
   "cell_type": "code",
   "execution_count": 54,
   "id": "aad2a221",
   "metadata": {},
   "outputs": [
    {
     "data": {
      "text/plain": [
       "['Apple', 'Banana', 'Fig']"
      ]
     },
     "execution_count": 54,
     "metadata": {},
     "output_type": "execute_result"
    }
   ],
   "source": [
    "# i. Display all elements of the fruits list using a step size of 2 (i.e., every other fruit).\n",
    "fruits[::2]"
   ]
  },
  {
   "cell_type": "code",
   "execution_count": 55,
   "id": "c21f491e",
   "metadata": {},
   "outputs": [
    {
     "data": {
      "text/plain": [
       "['Apple', 'Apricot', 'Banana', 'Dragonfruit', 'Fig', 'Grape']"
      ]
     },
     "execution_count": 55,
     "metadata": {},
     "output_type": "execute_result"
    }
   ],
   "source": [
    "# j. Sort the fruits list in ascending alphabetical order\n",
    "fruits.sort()\n",
    "fruits"
   ]
  },
  {
   "cell_type": "markdown",
   "id": "46f2e396",
   "metadata": {},
   "source": [
    "<br>"
   ]
  },
  {
   "cell_type": "markdown",
   "id": "32e47f4a-476e-4f1d-b214-937926de7bef",
   "metadata": {},
   "source": [
    "## Q4. Dictionary Exercise\n",
    "\n",
    "Dictionary is another data structure that can be used in Python programs to manage large amount of data. While many problems can be solved with lists or conditional statements, in some occasions solutions are well suited using dictionaries. You are expected to: \n",
    "\n",
    "+ Create a new variable that holds a dictionary\n",
    "+ Add a key-value pair to a dictionary\n",
    "+ Update the value associated with a key in a dictionary\n",
    "+ Iterate over all of the keys and/or values in a dictionary"
   ]
  },
  {
   "cell_type": "markdown",
   "id": "d6654852",
   "metadata": {},
   "source": [
    "a. Create a dictionary named students with the following key-value pairs:\n",
    "\n",
    "- \"Alice\": 83\n",
    "- \"Bob\": 95\n",
    "- \"Charlie\": 78"
   ]
  },
  {
   "cell_type": "code",
   "execution_count": 56,
   "id": "8715efac",
   "metadata": {},
   "outputs": [
    {
     "data": {
      "text/plain": [
       "{'Alice': 83, 'Bob': 95, 'Charlie': 78}"
      ]
     },
     "execution_count": 56,
     "metadata": {},
     "output_type": "execute_result"
    }
   ],
   "source": [
    "# a. Create a dictionary\n",
    "students = {'Alice':83, 'Bob':95, 'Charlie':78}\n",
    "students"
   ]
  },
  {
   "cell_type": "code",
   "execution_count": 57,
   "id": "11b7e505",
   "metadata": {},
   "outputs": [
    {
     "data": {
      "text/plain": [
       "{'Alice': 83, 'Bob': 95, 'Charlie': 78, 'David': 91}"
      ]
     },
     "execution_count": 57,
     "metadata": {},
     "output_type": "execute_result"
    }
   ],
   "source": [
    "# b. Add another student \"David\" with a score of 91 to the students dictionary.\n",
    "students['David'] = 91\n",
    "students"
   ]
  },
  {
   "cell_type": "code",
   "execution_count": 58,
   "id": "477281e5",
   "metadata": {},
   "outputs": [
    {
     "data": {
      "text/plain": [
       "{'Alice': 83, 'Bob': 93, 'Charlie': 78, 'David': 91}"
      ]
     },
     "execution_count": 58,
     "metadata": {},
     "output_type": "execute_result"
    }
   ],
   "source": [
    "# c. Update Bob's score to 93 in the students dictionary.\n",
    "students['Bob'] = 93\n",
    "students"
   ]
  },
  {
   "cell_type": "code",
   "execution_count": 59,
   "id": "db6dffad",
   "metadata": {},
   "outputs": [
    {
     "name": "stdout",
     "output_type": "stream",
     "text": [
      "Name Grade\n",
      "Alice 83\n",
      "Bob 93\n",
      "Charlie 78\n",
      "David 91\n"
     ]
    }
   ],
   "source": [
    "# d. Using a loop, \n",
    "# iterate over the students dictionary and print each student's name and their score.\n",
    "print('Name', 'Grade')\n",
    "for key in students:\n",
    "    print(key,students[key])\n"
   ]
  },
  {
   "cell_type": "code",
   "execution_count": 60,
   "id": "5c8c162d",
   "metadata": {},
   "outputs": [
    {
     "name": "stdout",
     "output_type": "stream",
     "text": [
      "Name of students who scored greater than an 85\n",
      "Bob\n",
      "David\n"
     ]
    }
   ],
   "source": [
    "# e. Using a loop, print only the names of students who scored more than 85.\n",
    "print('Name of students who scored greater than an 85')\n",
    "for key in students:\n",
    "    if (students[key]>85):\n",
    "        print(key)"
   ]
  },
  {
   "cell_type": "markdown",
   "id": "ed7c7cdd",
   "metadata": {},
   "source": [
    "<br>"
   ]
  },
  {
   "cell_type": "markdown",
   "id": "8fcfba39",
   "metadata": {},
   "source": [
    "## Q5. Function Exercise\n",
    "\n",
    "Part 1: Function Exercise\n",
    "\n",
    "Functions are a cornerstone in programming, allowing for code reuse, modular design, and clearer code. In this exercise, you will:\n",
    "\n",
    "- Define functions and call them to perform tasks.\n",
    "- Use conditionals within functions to make decisions.\n",
    "- Test the functionality of your functions with various inputs."
   ]
  },
  {
   "cell_type": "code",
   "execution_count": 61,
   "id": "1674ea80",
   "metadata": {},
   "outputs": [
    {
     "data": {
      "text/plain": [
       "24"
      ]
     },
     "execution_count": 61,
     "metadata": {},
     "output_type": "execute_result"
    }
   ],
   "source": [
    "# a. Define a function named add that takes two parameters and returns their sum.\n",
    "# After defining the function, test it with two numbers of your choice.\n",
    "def add (x, y):\n",
    "    sum = x+y\n",
    "    return sum\n",
    "\n",
    "add(3, 21)"
   ]
  },
  {
   "cell_type": "code",
   "execution_count": 62,
   "id": "3a3bc18a",
   "metadata": {},
   "outputs": [
    {
     "data": {
      "text/plain": [
       "-16"
      ]
     },
     "execution_count": 62,
     "metadata": {},
     "output_type": "execute_result"
    }
   ],
   "source": [
    "# b. Define a function named subtract \n",
    "# that takes two parameters and returns the result of subtracting the second from the first.\n",
    "# After defining the function, test it with two numbers of your choice.\n",
    "def subtract (x, y):\n",
    "    dif = x-y\n",
    "    return dif\n",
    "\n",
    "subtract(34, 50)"
   ]
  },
  {
   "cell_type": "code",
   "execution_count": 63,
   "id": "733b86e2",
   "metadata": {},
   "outputs": [],
   "source": [
    "# c. Define a function named larger_number that takes two parameters. \n",
    "# This function should return the larger of the two numbers. \n",
    "# If the numbers are equal, it should return the string \"Both numbers are equal.\"\n",
    "def larger_number (x, y):\n",
    "    if x > y:\n",
    "        return x\n",
    "    elif x < y:\n",
    "        return y\n",
    "    else:\n",
    "        return \"Both numbers are equal\""
   ]
  },
  {
   "cell_type": "code",
   "execution_count": 64,
   "id": "c05db9dd",
   "metadata": {},
   "outputs": [],
   "source": [
    "# d. Call the larger_number function with various pairs of numbers. Print the results.\n",
    "\n"
   ]
  },
  {
   "cell_type": "code",
   "execution_count": 65,
   "id": "0a1794b6",
   "metadata": {},
   "outputs": [
    {
     "data": {
      "text/plain": [
       "9"
      ]
     },
     "execution_count": 65,
     "metadata": {},
     "output_type": "execute_result"
    }
   ],
   "source": [
    "larger_number(9, 4)"
   ]
  },
  {
   "cell_type": "code",
   "execution_count": 66,
   "id": "dbb9cde4",
   "metadata": {},
   "outputs": [
    {
     "data": {
      "text/plain": [
       "42"
      ]
     },
     "execution_count": 66,
     "metadata": {},
     "output_type": "execute_result"
    }
   ],
   "source": [
    "larger_number(17, 42)"
   ]
  },
  {
   "cell_type": "code",
   "execution_count": 67,
   "id": "7444531b",
   "metadata": {},
   "outputs": [
    {
     "data": {
      "text/plain": [
       "'Both numbers are equal'"
      ]
     },
     "execution_count": 67,
     "metadata": {},
     "output_type": "execute_result"
    }
   ],
   "source": [
    "larger_number(1,1)"
   ]
  },
  {
   "cell_type": "code",
   "execution_count": 68,
   "id": "e2438a45",
   "metadata": {},
   "outputs": [],
   "source": [
    "# e. Define a function named is_even that checks if a number is even. \n",
    "# If the number is even, it should return True, otherwise, it should return False.\n",
    "def is_even (x):\n",
    "    if x%2 == 0:\n",
    "        return True\n",
    "    else:\n",
    "        return False"
   ]
  },
  {
   "cell_type": "code",
   "execution_count": 69,
   "id": "4690f18f",
   "metadata": {},
   "outputs": [],
   "source": [
    "# f. Test the is_even function with different numbers and print the results.\n"
   ]
  },
  {
   "cell_type": "code",
   "execution_count": 70,
   "id": "b6a0a7c8",
   "metadata": {},
   "outputs": [
    {
     "data": {
      "text/plain": [
       "True"
      ]
     },
     "execution_count": 70,
     "metadata": {},
     "output_type": "execute_result"
    }
   ],
   "source": [
    "is_even(4)"
   ]
  },
  {
   "cell_type": "code",
   "execution_count": 71,
   "id": "b1338d9a",
   "metadata": {},
   "outputs": [
    {
     "data": {
      "text/plain": [
       "False"
      ]
     },
     "execution_count": 71,
     "metadata": {},
     "output_type": "execute_result"
    }
   ],
   "source": [
    "is_even(77)"
   ]
  },
  {
   "cell_type": "markdown",
   "id": "b75a2dcd",
   "metadata": {},
   "source": [
    "##### Part 2: Lambda Exercise\n",
    "\n",
    "Lambda functions provide a way to create small, anonymous functions for quick tasks. They are particularly useful when a short function is needed temporarily, without needing a full function declaration."
   ]
  },
  {
   "cell_type": "code",
   "execution_count": 72,
   "id": "a866dfe8",
   "metadata": {},
   "outputs": [
    {
     "data": {
      "text/plain": [
       "35"
      ]
     },
     "execution_count": 72,
     "metadata": {},
     "output_type": "execute_result"
    }
   ],
   "source": [
    "# a. Define a lambda function named multiply \n",
    "# that takes two parameters and returns their product.\n",
    "\n",
    "multiply = lambda x,y: x * y\n",
    "\n",
    "product = multiply(5,7)\n",
    "product"
   ]
  },
  {
   "cell_type": "code",
   "execution_count": 73,
   "id": "73d9f7c1",
   "metadata": {},
   "outputs": [
    {
     "data": {
      "text/plain": [
       "27.0"
      ]
     },
     "execution_count": 73,
     "metadata": {},
     "output_type": "execute_result"
    }
   ],
   "source": [
    "# b. Define another lambda function named divide \n",
    "# that takes two parameters and returns the result of dividing the first by the second.\n",
    "\n",
    "divide = lambda x,y: x / y\n",
    "\n",
    "quotient = divide(135,5)\n",
    "quotient"
   ]
  },
  {
   "cell_type": "code",
   "execution_count": 74,
   "id": "7d12ada3",
   "metadata": {},
   "outputs": [
    {
     "data": {
      "text/plain": [
       "[5, 4, 3, 2, 1]"
      ]
     },
     "execution_count": 74,
     "metadata": {},
     "output_type": "execute_result"
    }
   ],
   "source": [
    "# c. Create a list of numbers: nums = [1, 2, 3, 4, 5]. \n",
    "# Use a lambda function with the sorted() function and a lambda to sort the nums list in descending order.\n",
    "\n",
    "numbers = [1, 2, 3, 4, 5]\n",
    "descending = sorted(numbers, key=lambda x : x, reverse = True)\n",
    "descending"
   ]
  },
  {
   "cell_type": "markdown",
   "id": "d7e2c4aa",
   "metadata": {},
   "source": [
    "<br>"
   ]
  },
  {
   "cell_type": "markdown",
   "id": "2cd96ecd",
   "metadata": {},
   "source": [
    "## <font color=RED>The questions below are optional. If you wish to engage in additional practice, you are welcome to attempt them. However, not completing these optional questions will not result in any loss of points for this assignment. </font>"
   ]
  },
  {
   "cell_type": "markdown",
   "id": "d76c76fe-7f7b-4a0f-bcc2-c3361fa71e9f",
   "metadata": {},
   "source": [
    "## Optional Exercise 1: Below and Above Average\n",
    "\n",
    "Write a program that read a number N from the user. Let the program generate N random values. Afterwards, your program should display the average of all of the random values generated. Then the program should display all of the above average values, followed by all of the average values (if any), followed by all of the below average values. An output of a running example:  \n",
    "<pre>\n",
    "Please input the total number of random values:25\n",
    "\n",
    "There are 13 numbers above the average of 51.24 :\n",
    "[62, 62, 63, 94, 95, 70, 65, 74, 83, 93, 97, 56, 56]\n",
    "\n",
    "There are 0 numbers equal to the average of 51.24 :\n",
    "[]\n",
    "\n",
    "There are 12 numbers below the average of 51.24 :\n",
    "[40, 1, 16, 12, 39, 32, 17, 50, 0, 5, 49, 50]\n",
    "</pre>\n",
    "\n",
    "> To generate random numbers use module random, then invoke one of the methods in the following :  \n",
    "  import random  \n",
    "  random.random()  &nbsp;  &nbsp; &nbsp;&nbsp;&nbsp;&nbsp; &nbsp;        # Random float:  0.0 <= x < 1.0  \n",
    "  random.randrange(10)    &nbsp;&nbsp; # Integer from 0 to 9 inclusive   \n",
    "  random.randint(1,10)    &nbsp;&nbsp;&nbsp;&nbsp; # Integer from 1 to 10 inclusive  \n",
    "  See methods available in Python random module at https://www.w3schools.com/python/module_random.asp"
   ]
  },
  {
   "cell_type": "code",
   "execution_count": 2,
   "id": "ec380baf",
   "metadata": {},
   "outputs": [
    {
     "name": "stdout",
     "output_type": "stream",
     "text": [
      "Please input the total number of random values: 20\n"
     ]
    }
   ],
   "source": [
    "\n",
    "userIn = int(input(\"Please input the total number of random values: \"))\n"
   ]
  },
  {
   "cell_type": "code",
   "execution_count": 3,
   "id": "ff9ad1ca",
   "metadata": {},
   "outputs": [
    {
     "data": {
      "text/plain": [
       "[93, 83, 21, 6, 54, 31, 50, 74, 32, 42, 76, 25, 77, 71, 75, 34, 7, 52, 64, 46]"
      ]
     },
     "execution_count": 3,
     "metadata": {},
     "output_type": "execute_result"
    }
   ],
   "source": [
    "import random\n",
    "listRand = []\n",
    "i = 0\n",
    "while i < userIn:\n",
    "    listRand.append(random.randrange(100))\n",
    "    i+=1\n",
    "listRand"
   ]
  },
  {
   "cell_type": "code",
   "execution_count": 4,
   "id": "bca20ecd",
   "metadata": {},
   "outputs": [
    {
     "name": "stdout",
     "output_type": "stream",
     "text": [
      "There are  10  numbers above to the average of  50.65\n"
     ]
    },
    {
     "data": {
      "text/plain": [
       "[93, 83, 54, 74, 76, 77, 71, 75, 52, 64]"
      ]
     },
     "execution_count": 4,
     "metadata": {},
     "output_type": "execute_result"
    }
   ],
   "source": [
    "listAvg = sum(listRand)/len(listRand)\n",
    "listAvg\n",
    "\n",
    "listAbove = []\n",
    "for w in listRand:\n",
    "    if w > listAvg:\n",
    "        listAbove.append(w)\n",
    "lengthA = len(listAbove)\n",
    "print(\"There are \", lengthA, \" numbers above to the average of \", listAvg )\n",
    "listAbove"
   ]
  },
  {
   "cell_type": "code",
   "execution_count": 5,
   "id": "52dc970e",
   "metadata": {},
   "outputs": [
    {
     "name": "stdout",
     "output_type": "stream",
     "text": [
      "There are  0  numbers equal to the average of  50.65\n"
     ]
    },
    {
     "data": {
      "text/plain": [
       "[]"
      ]
     },
     "execution_count": 5,
     "metadata": {},
     "output_type": "execute_result"
    }
   ],
   "source": [
    "listEqual = []\n",
    "for x in listRand:\n",
    "    if x == listAvg:\n",
    "        listEqual.append(x)\n",
    "lengthE = len(listEqual)\n",
    "print(\"There are \", lengthE, \" numbers equal to the average of \", listAvg )\n",
    "listEqual "
   ]
  },
  {
   "cell_type": "code",
   "execution_count": 6,
   "id": "1f5eed8e",
   "metadata": {},
   "outputs": [
    {
     "name": "stdout",
     "output_type": "stream",
     "text": [
      "There are  10  numbers below to the average of  50.65\n"
     ]
    },
    {
     "data": {
      "text/plain": [
       "[21, 6, 31, 50, 32, 42, 25, 34, 7, 46]"
      ]
     },
     "execution_count": 6,
     "metadata": {},
     "output_type": "execute_result"
    }
   ],
   "source": [
    "\n",
    "listBelow = []\n",
    "for y in listRand:\n",
    "    if y < listAvg:\n",
    "        listBelow.append(y)\n",
    "lengthB = len(listBelow)\n",
    "print(\"There are \", lengthB, \" numbers below to the average of \", listAvg )\n",
    "listBelow "
   ]
  },
  {
   "cell_type": "markdown",
   "id": "856f70a2-b4b6-4a81-9f95-f25589870b2c",
   "metadata": {},
   "source": [
    "## Optional Exercise 2: Random Lottery Numbers\n",
    "\n",
    "In order to win the top prize in a particular lottery, one must match all 6 numbers\n",
    "on his or her ticket to the 6 numbers between 1 and 49 that are drawn by the lottery\n",
    "organizer. Write a program that generates a random selection of 6 numbers for a lottery ticket. Ensure that the 6 numbers selected do not contain any duplicates.\n",
    "Display the numbers in ascending order.\n",
    "\n",
    "> To generate random numbers use module random, then invoke one of the methods in the following :  \n",
    "  import random  \n",
    "  random.random()  &nbsp;  &nbsp; &nbsp;&nbsp;&nbsp;&nbsp; &nbsp;        # Random float:  0.0 <= x < 1.0  \n",
    "  random.randrange(10)    &nbsp;&nbsp; # Integer from 0 to 9 inclusive   \n",
    "  random.randint(1,10)    &nbsp;&nbsp;&nbsp;&nbsp; # Integer from 1 to 10 inclusive  \n",
    "  See methods available in Python random module at https://www.w3schools.com/python/module_random.asp\n",
    "  "
   ]
  },
  {
   "cell_type": "code",
   "execution_count": 94,
   "id": "6a51ac0f",
   "metadata": {},
   "outputs": [],
   "source": [
    "import random\n",
    "array = []"
   ]
  },
  {
   "cell_type": "code",
   "execution_count": 95,
   "id": "c7b5f684",
   "metadata": {},
   "outputs": [
    {
     "name": "stdout",
     "output_type": "stream",
     "text": [
      "Lottery Numbers are: [15, 16, 20, 40, 43, 44]\n"
     ]
    }
   ],
   "source": [
    "while (len(array)!=6):\n",
    "    random_number = random.randint(1,49)\n",
    "    if(random_number not in array):\n",
    "        array.append(random_number)\n",
    "array.sort()\n",
    "print(\"Lottery Numbers are:\", array)"
   ]
  },
  {
   "cell_type": "markdown",
   "id": "1635ddb1",
   "metadata": {},
   "source": [
    "<br>"
   ]
  },
  {
   "cell_type": "markdown",
   "id": "209b7347-6b5f-438d-b5fc-394dc5cdee34",
   "metadata": {},
   "source": [
    "### Function with List Exercise"
   ]
  },
  {
   "cell_type": "markdown",
   "id": "a95c3435-3fa7-43f7-9a12-a86da778abc9",
   "metadata": {},
   "source": [
    "\n",
    "\n",
    "## Optional Exercise 3 : Remove Outliers\n",
    "\n",
    "When analysing data collected as part of a science experiment it may be desirable to remove the most extreme values before performing other calculations.  \n",
    "\n",
    "Write a function that takes a list of values and a non-negative integer, N, as its parameters. The function should create a new copy of the list with both the n largest elements and the n smallest elements removed. Then it should return the new copy of the list as the sole function’s result as return. The order of the elements in the returned list does not have to match the order of the elements in the original list.\n",
    "\n",
    "To demonstrate the function you created in the program, call the function with a list of randomly generated numbers, that the function would remove the two largest and two smallest values from it, and return an updated new copy. Display the new copy of the list with the outliers removed, followed by the original list. Your program should generate an appropriate error message if the user enters less than 4 values in the case of N is 2. See the examples:  \n",
    "<pre>\n",
    "(Scenario 01)\n",
    "Please input the total number of random values:10\n",
    "New list: [37, 39, 39, 51, 52, 55]\n",
    "Old list: [39, 52, 98, 55, 51, 39, 37, 12, 36, 56]\n",
    "\n",
    "(Scenario 02)\n",
    "Please input the total number of random values:3\n",
    "Old list: [94, 26, 53]\n",
    "You do not have enought values (must be more than 3.\n",
    "\n",
    "(Scenario 03)\n",
    "Please input the total number of random values:4\n",
    "New list: []\n",
    "Old list: [80, 13, 74, 87]\n",
    "</pre>"
   ]
  },
  {
   "cell_type": "code",
   "execution_count": 96,
   "id": "d68f29e0",
   "metadata": {},
   "outputs": [],
   "source": [
    "def remove_outliers(dataList):\n",
    "    list = []\n",
    "    for i in dataList:\n",
    "        list.append(i)\n",
    "    list.sort()\n",
    "    #Now that we have a sorted list of values we want to get rid of the first smallest/largest two numbers and empty break value\n",
    "    return list[3:-2]"
   ]
  },
  {
   "cell_type": "code",
   "execution_count": 97,
   "id": "8cfa2c6f",
   "metadata": {},
   "outputs": [],
   "source": [
    "def input_Output():\n",
    "    list1 = []\n",
    "    while(True):    #while there is an input numbers will be asked for\n",
    "        userIn = input(\"Enter an integer here (leave blank to finish list): \")   #getting user input\n",
    "        list1.append(userIn)\n",
    "        if(userIn == \"\"):   #if left blank then list is complete\n",
    "            break\n",
    "    if len(list1) < 4:\n",
    "        print(\"List is not long enough, needs to consists of at least 4 values\")\n",
    "    else:\n",
    "        #As list is of length we want to get rid if outliers with function\n",
    "        list_Removed = remove_outliers(list1)\n",
    "        print(\"List with no outliers: \", list_Removed)\n",
    "        print(\"Original list: \", list1)\n"
   ]
  },
  {
   "cell_type": "code",
   "execution_count": 98,
   "id": "7303dc8c",
   "metadata": {},
   "outputs": [
    {
     "name": "stdout",
     "output_type": "stream",
     "text": [
      "Enter an integer here (leave blank to finish list): 54\n",
      "Enter an integer here (leave blank to finish list): 65\n",
      "Enter an integer here (leave blank to finish list): 76\n",
      "Enter an integer here (leave blank to finish list): 89\n",
      "Enter an integer here (leave blank to finish list): 07\n",
      "Enter an integer here (leave blank to finish list): 46\n",
      "Enter an integer here (leave blank to finish list): 7\n",
      "Enter an integer here (leave blank to finish list): \n",
      "List with no outliers:  ['54', '65', '7']\n",
      "Original list:  ['54', '65', '76', '89', '07', '46', '7', '']\n"
     ]
    }
   ],
   "source": [
    "input_Output()"
   ]
  },
  {
   "cell_type": "markdown",
   "id": "c2f6890f-190d-4db0-8ec5-ca8939d7781b",
   "metadata": {},
   "source": [
    "## Optional Exercise 4: Is a List already in Sorted Order?\n",
    "\n",
    "Write a function that determines whether or not a list of values is in sorted order\n",
    "(either ascending or descending). The function should return True if the list is\n",
    "already sorted. Otherwise it should return False. Write a main program that reads\n",
    "a list of numbers from the user and then uses your function to report whether or not\n",
    "the list is sorted.\n",
    "\n",
    ">One solution idea to check whether a list of values are in a correct order is to check all pairs of neighboring values on the list to see if all pairs are in correct order. As soon as there is one pair on the list has the incorrect order, then it's time to conclude that the whole list is not in correct order. Otherwise, all numbers on the list are in their correct order. Also make sure you consider these questions when completing this exercise: Is an empty list in sorted order? What about a list contains only one element?   \n",
    "\n",
    "Some examples:   \n",
    "<pre>\n",
    "(Scenario I)\n",
    "Input the next number:1\n",
    "Input the next number:2\n",
    "Input the next number:3\n",
    "Input the next number:4\n",
    "Input the next number:5\n",
    "[1, 2, 3, 4, 5]\n",
    "This list is sorted.\n",
    "\n",
    "(Scenario II)\n",
    "Input the next number:1\n",
    "Input the next number:2\n",
    "Input the next number:3\n",
    "Input the next number:5\n",
    "Input the next number:4\n",
    "[1, 2, 3, 5, 4]\n",
    "This list is NOT sorted.\n",
    "\n",
    "(Scenario III)\n",
    "Input the next number:5\n",
    "Input the next number:4\n",
    "Input the next number:3\n",
    "Input the next number:2\n",
    "Input the next number:1\n",
    "[5, 4, 3, 2, 1]\n",
    "This list is sorted.\n",
    "\n",
    "(Scenario IV)\n",
    "[]\n",
    "This list is sorted.\n",
    "\n",
    "(Scenario V)\n",
    "Input the next number:9\n",
    "[9]\n",
    "This list is sorted.\n",
    "</pre>"
   ]
  },
  {
   "cell_type": "code",
   "execution_count": null,
   "id": "4e0e8928",
   "metadata": {},
   "outputs": [],
   "source": []
  },
  {
   "cell_type": "code",
   "execution_count": null,
   "id": "e1a1c663",
   "metadata": {},
   "outputs": [],
   "source": []
  },
  {
   "cell_type": "code",
   "execution_count": null,
   "id": "245653da",
   "metadata": {},
   "outputs": [],
   "source": []
  },
  {
   "cell_type": "markdown",
   "id": "0cf32421-bc32-4a4e-8379-2304ffcc747b",
   "metadata": {},
   "source": [
    "## Optional Exercise 5: Reverse Lookup\n",
    "\n",
    "Write a function named reverseLookup that finds all of the keys in a dictionary\n",
    "that map to a specific value. The function will take the dictionary and the value to\n",
    "search for as its only parameters. It will return a (possibly empty) list of keys from\n",
    "the dictionary that map to the provided value.   \n",
    "\n",
    "Include additional statements that demonstrates the reverseLookup function as part\n",
    "of your solution to this exercise.    \n",
    "\n",
    "Your program can create a dictionary or use the dictionary included and then\n",
    "show that the reverseLookup function works correctly when it returns multiple\n",
    "keys, a single key, and no keys.   \n",
    "\n",
    "<pre>data = { 'A': 3,\n",
    "         'B': 7,\n",
    "         'C': 8,\n",
    "         'D': 8,\n",
    "         'E': 7,\n",
    "         'F': 3,\n",
    "         'G': 2,\n",
    "         'H': 3,\n",
    "         'I': 8,\n",
    "         'J': 3  \n",
    "}\n",
    "</pre>\n",
    "The output from the given dictionary:   \n",
    "<pre>\n",
    "Keys for value 2 ['G']\n",
    "Keys for value 3 ['A', 'F', 'H', 'J']\n",
    "Keys for value 5 []\n",
    "Keys for value 7 ['B', 'E']\n",
    "Keys for value 8 ['C', 'D', 'I']\n",
    "</pre>"
   ]
  },
  {
   "cell_type": "code",
   "execution_count": 1,
   "id": "03e4e724-ed5e-4bd0-a582-d6572a0c5493",
   "metadata": {},
   "outputs": [],
   "source": [
    "# Reverse Lookup\n",
    "\n",
    "data = { 'A': 3,\n",
    "         'B': 7,\n",
    "         'C': 8,\n",
    "         'D': 8,\n",
    "         'E': 7,\n",
    "         'F': 3,\n",
    "         'G': 2,\n",
    "         'H': 3,\n",
    "         'I': 8,\n",
    "         'J': 3  \n",
    "}"
   ]
  },
  {
   "cell_type": "markdown",
   "id": "e0a762d0-7212-4ea7-8edf-7d658f78e175",
   "metadata": {},
   "source": [
    "\n",
    "\n",
    "## Optional Exercise 6 : Two Dice Simulation\n",
    "\n",
    "In this exercise you will simulate 1,000 rolls of two dice. Begin by writing a func-\n",
    "tion that simulates rolling a pair of six-sided dice. Your function will not take any\n",
    "parameters. It will return the total that was rolled on two dice as its only result.\n",
    "Write the main program that uses your function to simulate rolling two six-sided\n",
    "dice 1,000 times.   \n",
    "\n",
    "As your program runs, it should count the number of times that each\n",
    "total occurs. Then it should display a table that summarizes this data. Express the\n",
    "frequency for each total as a percentage of the total number of rolls. Your program\n",
    "should also display the percentage expected by probability theory for each total.\n",
    "Sample output is shown below.  \n",
    "\n",
    "<img src=\"http://mathqs.mcdaniel.edu/ANA522/mod01/img/DiceSimulation.png\" width=\"300\" alt=\"If the image does not show use: http://mathqs.mcdaniel.edu/ANA522/mod01/img/DiceSimulation.png\">"
   ]
  },
  {
   "cell_type": "code",
   "execution_count": 132,
   "id": "2a9d23dd",
   "metadata": {},
   "outputs": [
    {
     "name": "stdout",
     "output_type": "stream",
     "text": [
      "Total\tSimulated Percent\tExpected Percent\n",
      "------------------------------------------------\n",
      "   2 |              2.20 |                 2.78 |\n",
      "   3 |              5.70 |                 5.56 |\n",
      "   4 |              9.10 |                 8.33 |\n",
      "   5 |             11.00 |                11.11 |\n",
      "   6 |             14.00 |                13.89 |\n",
      "   7 |             16.30 |                16.67 |\n",
      "   8 |             14.60 |                13.89 |\n",
      "   9 |             11.10 |                11.11 |\n",
      "  10 |              8.30 |                 8.33 |\n",
      "  11 |              5.40 |                 5.56 |\n",
      "  12 |              2.30 |                 2.78 |\n"
     ]
    }
   ],
   "source": [
    "def twoDice():\n",
    "    #Function for rolling two dice and summing the values\n",
    "    rollOne = random.randint(1,6)\n",
    "    rollTwo = random.randint(1,6)\n",
    "    return rollOne + rollTwo\n",
    "\n",
    "def tableValues():\n",
    "    #Create a dictionary of values for totals\n",
    "    totDict = {2:0, 3:0, 4:0, 5:0, 6:0, 7:0, 8:0, 9:0, 10:0, 11:0, 12:0}\n",
    "    \n",
    "    #roll the dice 1000 times, adjust values in dictionary to sum occurences\n",
    "    for i in range(1000):\n",
    "        twoDiceSum = twoDice()\n",
    "        totDict[twoDiceSum] += 1\n",
    "        i += 1\n",
    "    # Set the top of the table\n",
    "    print(\"Total\\tSimulated Percent\\tExpected Percent\")\n",
    "    print(\"------------------------------------------------\")\n",
    "    # \n",
    "    for total in range(2,13):\n",
    "        simulatedPercent = str(\"%.2f\"%(totDict[total]/1000*100))\n",
    "        if total <= 7:\n",
    "            expectedPercent = str(\"%.2f\"%((total-1)/36*100))\n",
    "        else:\n",
    "            expectedPercent = str(\"%.2f\"%((12-total+1)/36*100))\n",
    "        print(str(total).rjust(4),\"|\",simulatedPercent.rjust(17),\"|\",expectedPercent.rjust(20),\"|\")\n",
    "tableValues()"
   ]
  },
  {
   "cell_type": "raw",
   "id": "b3443730",
   "metadata": {},
   "source": [
    "for total in range(2, 13):\n",
    "        occurrences = totals.get(total, 0)\n",
    "        simulated_percent = (occurrences / rolls) * 100\n",
    "        print(f\"{total}\\t{occurrences}\\t\\t{simulated_percent:.2f}%\")\n"
   ]
  },
  {
   "cell_type": "markdown",
   "id": "6ff70556-4008-49d1-b2da-daff522749bf",
   "metadata": {},
   "source": [
    "## Optional Exercise 7 : Write Out Numbers in English\n",
    "\n",
    "While the popularity of cheques as a payment method has diminished in recent years,\n",
    "some companies still issue them to pay employees or vendors. The amount being\n",
    "paid normally appears on a cheque twice, with one occurrence written using digits,\n",
    "and the other occurrence written using English words. Repeating the amount in two\n",
    "different forms makes it much more difficult for an unscrupulous employee or vendor\n",
    "to modify the amount on the cheque before depositing it.   \n",
    "\n",
    "In this exercise, your task is to create a function that takes an integer between 0 and\n",
    "999 as its only parameter, and returns a string containing the English words for that\n",
    "number. For example, if the parameter to the function is 142 then your function should\n",
    "return “one hundred forty two”. Use one or more dictionaries to implement\n",
    "your solution rather than large if/elif/else constructs. Include a main program that\n",
    "reads an integer from the user and displays its value in English words. See example outputs:  \n",
    "\n",
    "<pre>\n",
    "123 :  One Hundred Twenty Three\n",
    "812 :  Eight Hundreds Twelve\n",
    "802 :  Eight Hundreds and Two\n",
    " 14 :   Fourteen\n",
    " 67 :   Sixty Seven\n",
    "  9 :   Nine\n",
    "</pre>\n"
   ]
  },
  {
   "cell_type": "code",
   "execution_count": null,
   "id": "2377d157",
   "metadata": {},
   "outputs": [],
   "source": []
  },
  {
   "cell_type": "markdown",
   "id": "4d587844",
   "metadata": {},
   "source": [
    "## Optional Exercise 8: The Sieve of Eratosthenes\n",
    "\n",
    "The Sieve of Eratosthenes is a technique that was developed more than 2,000 years ago to easily find all of the prime numbers between 2 and some limit, say 100. A description of the algorithm follows:  \n",
    "  \n",
    "&nbsp;&nbsp;&nbsp;&nbsp;&nbsp; Write down all of the numbers from 0 to the limit  \n",
    "&nbsp;&nbsp;&nbsp;&nbsp;&nbsp; Cross out 0 and 1 because they are not prime  \n",
    "   \n",
    "&nbsp;&nbsp;&nbsp;&nbsp;&nbsp;&nbsp;&nbsp;&nbsp;&nbsp;&nbsp;  Set p equal to 2  \n",
    "&nbsp;&nbsp;&nbsp;&nbsp;&nbsp;&nbsp;&nbsp;&nbsp;&nbsp;&nbsp;  While p is less than the limit do  \n",
    "&nbsp;&nbsp;&nbsp;&nbsp;&nbsp;&nbsp;&nbsp;&nbsp;&nbsp;&nbsp;&nbsp;&nbsp;&nbsp;&nbsp;&nbsp;&nbsp;&nbsp;  Cross out all multiples of p (but not p itself)  \n",
    "&nbsp;&nbsp;&nbsp;&nbsp;&nbsp;&nbsp;&nbsp;&nbsp;&nbsp;&nbsp;&nbsp;&nbsp;&nbsp;&nbsp;&nbsp;&nbsp;&nbsp;  Set p equal to the next number in the list that is not crossed out   \n",
    "   \n",
    "Report all of the numbers that have not been crossed out as prime   \n",
    "   \n",
    "The key to this algorithm is that it is relatively easy to cross out every nth number on a piece of paper. This is also an easy task for a computer—a for loop can simulate this behavior when a third parameter is provided to the range function. When a number is crossed out, we knowthat it is no longer prime, but it still occupies space on the piece of paper, and must still be considered when computing later prime numbers.  \n",
    "\n",
    "As a result, you should not simulate crossing out a number by removing it from the\n",
    "list. Instead, you should simulate crossing out a number by replacing it with 0. Then,\n",
    "once the algorithm completes, all of the non-zero values in the list are prime.   \n",
    "    \n",
    "Read the Python program in the following that uses this algorithm to display all of the prime\n",
    "numbers between 2 and a limit,say 1000."
   ]
  },
  {
   "cell_type": "code",
   "execution_count": null,
   "id": "34dbb872",
   "metadata": {},
   "outputs": [],
   "source": []
  },
  {
   "cell_type": "markdown",
   "id": "c6ab5beb",
   "metadata": {},
   "source": [
    "## (a) Use list comprehension to remove zeros on the list, so that the list becomes :\n",
    "[2, 3, 5, 7, 11, 13, 17, 19, 23, 29, 31, 37, 41, 43, 47, 53, 59, 61, 67, 71, 73, 79, 83, 89, 97, 101, 103, 107, 109, 113, 127, 131, 137, 139, 149, 151, 157, 163, 167, 173, 179, 181, 191, 193, 197, 199, 211, 223, 227, 229, 233, 239, 241, 251, 257, 263, 269, 271, 277, 281, 283, 293, 307, 311, 313, 317, 331, 337, 347, 349, 353, 359, 367, 373, 379, 383, 389, 397, 401, 409, 419, 421, 431, 433, 439, 443, 449, 457, 461, 463, 467, 479, 487, 491, 499, 503, 509, 521, 523, 541, 547, 557, 563, 569, 571, 577, 587, 593, 599, 601, 607, 613, 617, 619, 631, 641, 643, 647, 653, 659, 661, 673, 677, 683, 691, 701, 709, 719, 727, 733, 739, 743, 751, 757, 761, 769, 773, 787, 797, 809, 811, 821, 823, 827, 829, 839, 853, 857, 859, 863, 877, 881, 883, 887, 907, 911, 919, 929, 937, 941, 947, 953, 967, 971, 977, 983, 991, 997]"
   ]
  },
  {
   "cell_type": "code",
   "execution_count": null,
   "id": "70f771b4",
   "metadata": {},
   "outputs": [],
   "source": []
  },
  {
   "cell_type": "markdown",
   "id": "7254ce0a",
   "metadata": {},
   "source": [
    "## (b) Create a function that would return how many prime numbers are there in the range of [a,b]. The program should ask user for the values of a and b, the printout the answers.\n",
    "For example:\n",
    "<pre>\n",
    "Please give value a: \n",
    "30\n",
    "Please give value b: \n",
    "50\n",
    "There are 5 prime numbers in between 30 and 50. \n",
    "\n",
    "Please give value a: \n",
    "130\n",
    "Please give value b: \n",
    "150\n",
    "There are 4 prime numbers in between 130 and 150. "
   ]
  },
  {
   "cell_type": "code",
   "execution_count": null,
   "id": "d380b3ff",
   "metadata": {},
   "outputs": [],
   "source": []
  },
  {
   "cell_type": "code",
   "execution_count": null,
   "id": "8b72bb74",
   "metadata": {},
   "outputs": [],
   "source": []
  }
 ],
 "metadata": {
  "kernelspec": {
   "display_name": "Python 3 (ipykernel)",
   "language": "python",
   "name": "python3"
  },
  "language_info": {
   "codemirror_mode": {
    "name": "ipython",
    "version": 3
   },
   "file_extension": ".py",
   "mimetype": "text/x-python",
   "name": "python",
   "nbconvert_exporter": "python",
   "pygments_lexer": "ipython3",
   "version": "3.11.4"
  }
 },
 "nbformat": 4,
 "nbformat_minor": 5
}
