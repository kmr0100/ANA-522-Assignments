{
 "cells": [
  {
   "cell_type": "markdown",
   "id": "0f77c588-deaf-49b3-92d4-6bebc8be236c",
   "metadata": {},
   "source": [
    "# ANA-522 Week 1 Programming homework\n",
    "\n",
    "## Due: Sunday of Week1 at midnight  "
   ]
  },
  {
   "cell_type": "markdown",
   "id": "88cb6bac",
   "metadata": {},
   "source": [
    "<br>"
   ]
  },
  {
   "cell_type": "markdown",
   "id": "afeaa26f",
   "metadata": {},
   "source": [
    "### Q1: Variable Assignment and Data Types\n",
    "\n",
    "Instructions:\n",
    "- Assign the integer value 10 to a variable named x.\n",
    "- Print the value and check the data type of x."
   ]
  },
  {
   "cell_type": "code",
   "execution_count": 1,
   "id": "3554a850",
   "metadata": {},
   "outputs": [
    {
     "data": {
      "text/plain": [
       "10"
      ]
     },
     "execution_count": 1,
     "metadata": {},
     "output_type": "execute_result"
    }
   ],
   "source": [
    "x = 10\n",
    "x"
   ]
  },
  {
   "cell_type": "code",
   "execution_count": 2,
   "id": "bb4731e4",
   "metadata": {},
   "outputs": [
    {
     "data": {
      "text/plain": [
       "True"
      ]
     },
     "execution_count": 2,
     "metadata": {},
     "output_type": "execute_result"
    }
   ],
   "source": [
    "isinstance(x, int)"
   ]
  },
  {
   "cell_type": "markdown",
   "id": "bc57bf52",
   "metadata": {},
   "source": [
    "### Q2: Arithmetic Operations:\n",
    "\n",
    "Instructions:\n",
    "- Assign the values 17 and 6 to two variables, `a` and `b`, respectively.\n",
    "- Perform addition, subtraction, multiplication, and division on `a` and `b`, and assign the results to new variables `add`, `sub`, `mul`, and `div`, respectively.\n",
    "- Print the values of `add`, `sub`, `mul`, and `div`."
   ]
  },
  {
   "cell_type": "code",
   "execution_count": 3,
   "id": "d26955ec",
   "metadata": {},
   "outputs": [],
   "source": [
    "a = 17; b = 6\n",
    "add = a + b\n",
    "sub = a - b\n",
    "mul = a * b\n",
    "div = a / b"
   ]
  },
  {
   "cell_type": "code",
   "execution_count": 5,
   "id": "6c1f1fa6",
   "metadata": {},
   "outputs": [
    {
     "data": {
      "text/plain": [
       "23"
      ]
     },
     "execution_count": 5,
     "metadata": {},
     "output_type": "execute_result"
    }
   ],
   "source": [
    "add"
   ]
  },
  {
   "cell_type": "code",
   "execution_count": 6,
   "id": "c6e1bb18",
   "metadata": {},
   "outputs": [
    {
     "data": {
      "text/plain": [
       "11"
      ]
     },
     "execution_count": 6,
     "metadata": {},
     "output_type": "execute_result"
    }
   ],
   "source": [
    "sub"
   ]
  },
  {
   "cell_type": "code",
   "execution_count": 7,
   "id": "43e1695f",
   "metadata": {},
   "outputs": [
    {
     "data": {
      "text/plain": [
       "102"
      ]
     },
     "execution_count": 7,
     "metadata": {},
     "output_type": "execute_result"
    }
   ],
   "source": [
    "mul"
   ]
  },
  {
   "cell_type": "code",
   "execution_count": 8,
   "id": "10b8af11",
   "metadata": {},
   "outputs": [
    {
     "data": {
      "text/plain": [
       "2.8333333333333335"
      ]
     },
     "execution_count": 8,
     "metadata": {},
     "output_type": "execute_result"
    }
   ],
   "source": [
    "div"
   ]
  },
  {
   "cell_type": "markdown",
   "id": "1ed92413",
   "metadata": {},
   "source": [
    "### Q3: Type Conversion:\n",
    "\n",
    "Instructions:\n",
    "    \n",
    "- Assign the float value 7.2 to a variable `num_float`.\n",
    "- Convert `num_float` to an integer and assign it to a new variable `num_in`t.\n",
    "- Print the values and types of `num_float` and `num_int`."
   ]
  },
  {
   "cell_type": "code",
   "execution_count": 9,
   "id": "c893af75",
   "metadata": {},
   "outputs": [],
   "source": [
    "num_float = 7.2"
   ]
  },
  {
   "cell_type": "code",
   "execution_count": 10,
   "id": "1b8d664f",
   "metadata": {},
   "outputs": [],
   "source": [
    "num_int = int(num_float)"
   ]
  },
  {
   "cell_type": "code",
   "execution_count": 11,
   "id": "1c517d90",
   "metadata": {},
   "outputs": [
    {
     "data": {
      "text/plain": [
       "7.2"
      ]
     },
     "execution_count": 11,
     "metadata": {},
     "output_type": "execute_result"
    }
   ],
   "source": [
    "num_float"
   ]
  },
  {
   "cell_type": "code",
   "execution_count": 12,
   "id": "6e620318",
   "metadata": {},
   "outputs": [
    {
     "data": {
      "text/plain": [
       "7"
      ]
     },
     "execution_count": 12,
     "metadata": {},
     "output_type": "execute_result"
    }
   ],
   "source": [
    "num_int"
   ]
  },
  {
   "cell_type": "markdown",
   "id": "83cd5cd2",
   "metadata": {},
   "source": [
    "### Q4: Comparison Operators - Multiple Comparisons\n",
    "\n",
    "Instructions:\n",
    "- Assign the values 25, 16, and 32 to three variables, x, y, and z, respectively.\n",
    "- Check if x is greater than y and y is less than z.\n",
    "- Check if x is less than y or y is greater than or equal to z.\n",
    "- Print the results of both comparisons."
   ]
  },
  {
   "cell_type": "code",
   "execution_count": 54,
   "id": "d802be9b",
   "metadata": {},
   "outputs": [],
   "source": [
    "x = 25; y = 16; z = 32"
   ]
  },
  {
   "cell_type": "code",
   "execution_count": 56,
   "id": "632b6854",
   "metadata": {},
   "outputs": [
    {
     "data": {
      "text/plain": [
       "True"
      ]
     },
     "execution_count": 56,
     "metadata": {},
     "output_type": "execute_result"
    }
   ],
   "source": [
    "(x > y) and (y < z)"
   ]
  },
  {
   "cell_type": "code",
   "execution_count": 57,
   "id": "a45297a5",
   "metadata": {},
   "outputs": [
    {
     "data": {
      "text/plain": [
       "False"
      ]
     },
     "execution_count": 57,
     "metadata": {},
     "output_type": "execute_result"
    }
   ],
   "source": [
    "(x < y) or (y >= z)"
   ]
  },
  {
   "cell_type": "markdown",
   "id": "e568ca94",
   "metadata": {},
   "source": [
    "### Q5: if Statement\n",
    "\n",
    "Instructions:\n",
    "- Assign the value 8 to a variable `num`.\n",
    "- Write an if statement that checks if `num` is greater than 4.\n",
    "- If `num` is greater than 4, print \"The number is greater than 4."
   ]
  },
  {
   "cell_type": "code",
   "execution_count": 13,
   "id": "ca746d5b",
   "metadata": {},
   "outputs": [],
   "source": [
    "num = 8"
   ]
  },
  {
   "cell_type": "code",
   "execution_count": 16,
   "id": "c3b2dc10",
   "metadata": {},
   "outputs": [
    {
     "name": "stdout",
     "output_type": "stream",
     "text": [
      "The number is greater than 4.\n"
     ]
    }
   ],
   "source": [
    "if num > 4:\n",
    "    print(\"The number is greater than 4.\")"
   ]
  },
  {
   "cell_type": "markdown",
   "id": "2d2c84d9",
   "metadata": {},
   "source": [
    "### Q6: if-else Statement\n",
    "\n",
    "Instructions:\n",
    "- Assign the value 19 to a variable `age`.\n",
    "- Write an `if-else` statement that checks if `age` is greater than or equal to 18.\n",
    "- If `age` is greater than or equal to 18, print \"You are an adult\". Otherwise, print \"You are a minor\"."
   ]
  },
  {
   "cell_type": "code",
   "execution_count": 19,
   "id": "c5fb501f",
   "metadata": {},
   "outputs": [],
   "source": [
    "age = 19"
   ]
  },
  {
   "cell_type": "code",
   "execution_count": 20,
   "id": "fbd42d62",
   "metadata": {},
   "outputs": [
    {
     "name": "stdout",
     "output_type": "stream",
     "text": [
      "You are an adult\n"
     ]
    }
   ],
   "source": [
    "if age >= 18:\n",
    "    print(\"You are an adult\")\n",
    "else:\n",
    "    print(\"You are a minor\")"
   ]
  },
  {
   "cell_type": "markdown",
   "id": "6e6801d6",
   "metadata": {},
   "source": [
    "### Q7: if-elif-else Statement\n",
    "\n",
    "Instructions:\n",
    "- Assign a value to a variable `grade`.\n",
    "- Write an `if-elif-else` statement that will print the corresponding letter grade based on the value of grade.\n",
    "    - If `grade` is 90 or above, print \"A\".\n",
    "    - If `grade` is 80 to 89, print \"B\".\n",
    "    - If `grade` is 70 to 79, print \"C\".\n",
    "    - If `grade` is 60 to 69, print \"D\".\n",
    "    - If `grade` is below 60, print \"F\"."
   ]
  },
  {
   "cell_type": "code",
   "execution_count": 31,
   "id": "bec7aaf9",
   "metadata": {},
   "outputs": [],
   "source": [
    "grade = 85"
   ]
  },
  {
   "cell_type": "code",
   "execution_count": 32,
   "id": "f1f1fe05",
   "metadata": {},
   "outputs": [
    {
     "name": "stdout",
     "output_type": "stream",
     "text": [
      "B\n"
     ]
    }
   ],
   "source": [
    "if grade >= 90:\n",
    "    print(\"A\")\n",
    "elif grade >= 80:\n",
    "    print(\"B\")\n",
    "elif grade >= 70:\n",
    "    print(\"C\")\n",
    "elif grade >= 60:\n",
    "    print(\"D\")\n",
    "else:\n",
    "    print(\"F\")\n",
    "    \n"
   ]
  },
  {
   "cell_type": "markdown",
   "id": "d05dc2a8",
   "metadata": {},
   "source": [
    "### Q8: Basic `for` Loop\n",
    "\n",
    "Instructions:\n",
    "Write a `for` loop that iterates over a range of numbers from 1 to 20 (inclusive) and prints the square of each number."
   ]
  },
  {
   "cell_type": "code",
   "execution_count": 40,
   "id": "dbff8abf",
   "metadata": {},
   "outputs": [],
   "source": [
    "nums = range(1,21)\n",
    "squared = []"
   ]
  },
  {
   "cell_type": "code",
   "execution_count": 41,
   "id": "358dc958",
   "metadata": {},
   "outputs": [
    {
     "name": "stdout",
     "output_type": "stream",
     "text": [
      "1\n",
      "2\n",
      "3\n",
      "4\n",
      "5\n",
      "6\n",
      "7\n",
      "8\n",
      "9\n",
      "10\n",
      "11\n",
      "12\n",
      "13\n",
      "14\n",
      "15\n",
      "16\n",
      "17\n",
      "18\n",
      "19\n",
      "20\n"
     ]
    }
   ],
   "source": [
    "#Print all numbers to check values in the range from 1 to 20\n",
    "for i in nums:\n",
    "    print (i)"
   ]
  },
  {
   "cell_type": "code",
   "execution_count": 42,
   "id": "aefa95db",
   "metadata": {},
   "outputs": [
    {
     "name": "stdout",
     "output_type": "stream",
     "text": [
      "[1, 4, 9, 16, 25, 36, 49, 64, 81, 100, 121, 144, 169, 196, 225, 256, 289, 324, 361, 400]\n"
     ]
    }
   ],
   "source": [
    "#Print all the squares of the numbers in the range\n",
    "for i in nums:\n",
    "    squared.append(i*i)\n",
    "print(squared)"
   ]
  },
  {
   "cell_type": "markdown",
   "id": "65a089a9",
   "metadata": {},
   "source": [
    "### Q9: Basic `while` Loop\n",
    "\n",
    "Instructions:\n",
    "- Initialize a variable counter to 1.\n",
    "- Write a `while` loop that runs as long as counter is less than or equal to 5.\n",
    "- In each iteration, print the value of counter, and then increment counter by 1."
   ]
  },
  {
   "cell_type": "code",
   "execution_count": 46,
   "id": "9d6d35d3",
   "metadata": {},
   "outputs": [
    {
     "name": "stdout",
     "output_type": "stream",
     "text": [
      "1\n",
      "2\n",
      "3\n",
      "4\n",
      "5\n"
     ]
    }
   ],
   "source": [
    "counter = 1\n",
    "while counter <= 5:\n",
    "    print (counter)\n",
    "    counter+=1 "
   ]
  },
  {
   "cell_type": "markdown",
   "id": "b299b70e",
   "metadata": {},
   "source": [
    "### Q10: `for` Loop with `range()` Function\n",
    "\n",
    "Instructions:\n",
    "- Write a `for` loop that iterates over a range of numbers from 1 to 20 (inclusive) and prints the sum of all **even** numbers in that range."
   ]
  },
  {
   "cell_type": "code",
   "execution_count": 50,
   "id": "1e9c4bd7",
   "metadata": {},
   "outputs": [
    {
     "name": "stdout",
     "output_type": "stream",
     "text": [
      "2\n",
      "4\n",
      "6\n",
      "8\n",
      "10\n",
      "12\n",
      "14\n",
      "16\n",
      "18\n",
      "20\n"
     ]
    }
   ],
   "source": [
    "for i in range(1,21):\n",
    "    if i % 2 == 0:\n",
    "        print(i)"
   ]
  }
 ],
 "metadata": {
  "kernelspec": {
   "display_name": "Python 3 (ipykernel)",
   "language": "python",
   "name": "python3"
  },
  "language_info": {
   "codemirror_mode": {
    "name": "ipython",
    "version": 3
   },
   "file_extension": ".py",
   "mimetype": "text/x-python",
   "name": "python",
   "nbconvert_exporter": "python",
   "pygments_lexer": "ipython3",
   "version": "3.11.4"
  }
 },
 "nbformat": 4,
 "nbformat_minor": 5
}
