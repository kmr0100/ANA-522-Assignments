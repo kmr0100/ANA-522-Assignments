{
 "cells": [
  {
   "cell_type": "markdown",
   "id": "dd7c6b2e-b13a-49ed-af34-3e6cb7674d33",
   "metadata": {},
   "source": [
    "## ANA-522 \n",
    "## Mod02 Week03 Assignment: NumPy \n",
    "## Due: Sunday of week 3 at midnight"
   ]
  },
  {
   "cell_type": "markdown",
   "id": "315133ee",
   "metadata": {},
   "source": [
    "### Submit your work as a *.ipynb* notebook file on blackboard.\n",
    "### Please name your *.ipynb* file using the following format: firstname_week3_assignment.ipynb"
   ]
  },
  {
   "cell_type": "markdown",
   "id": "188ceae2",
   "metadata": {},
   "source": [
    "<br>"
   ]
  },
  {
   "cell_type": "markdown",
   "id": "dc8afdbb-8f11-4a76-8dfc-3ccac7c2ca4b",
   "metadata": {},
   "source": [
    "### 1.  Create a null vector (zeros) of size 40\n",
    "(a) create in one dimension, as array A1  \n",
    "(b) create in two dimension with 8 rows and 5 columns, as array A2  \n",
    "(c) create a new array as A3, which is a copy of A2, except that all values on the third column are 1     \n",
    "Print A1, A2, and A3.\n",
    "\n",
    "<pre>\n",
    "Array A1:\n",
    " [0. 0. 0. 0. 0. 0. 0. 0. 0. 0. 0. 0. 0. 0. 0. 0. 0. 0. 0. 0. 0. 0. 0. 0.\n",
    " 0. 0. 0. 0. 0. 0. 0. 0. 0. 0. 0. 0. 0. 0. 0. 0.]\n",
    "Array A2:\n",
    " [[0. 0. 0. 0. 0.]\n",
    " [0. 0. 0. 0. 0.]\n",
    " [0. 0. 0. 0. 0.]\n",
    " [0. 0. 0. 0. 0.]\n",
    " [0. 0. 0. 0. 0.]\n",
    " [0. 0. 0. 0. 0.]\n",
    " [0. 0. 0. 0. 0.]\n",
    " [0. 0. 0. 0. 0.]] \n",
    "Array A3:\n",
    " [[0. 0. 1. 0. 0.]\n",
    " [0. 0. 1. 0. 0.]\n",
    " [0. 0. 1. 0. 0.]\n",
    " [0. 0. 1. 0. 0.]\n",
    " [0. 0. 1. 0. 0.]\n",
    " [0. 0. 1. 0. 0.]\n",
    " [0. 0. 1. 0. 0.]\n",
    " [0. 0. 1. 0. 0.]] \n",
    "</pre>"
   ]
  },
  {
   "cell_type": "code",
   "execution_count": 24,
   "id": "612a0a8f",
   "metadata": {},
   "outputs": [],
   "source": [
    "import numpy as np"
   ]
  },
  {
   "cell_type": "code",
   "execution_count": 25,
   "id": "0e131ca2",
   "metadata": {},
   "outputs": [
    {
     "name": "stdout",
     "output_type": "stream",
     "text": [
      "Array A1\n"
     ]
    },
    {
     "data": {
      "text/plain": [
       "array([0., 0., 0., 0., 0., 0., 0., 0., 0., 0., 0., 0., 0., 0., 0., 0., 0.,\n",
       "       0., 0., 0., 0., 0., 0., 0., 0., 0., 0., 0., 0., 0., 0., 0., 0., 0.,\n",
       "       0., 0., 0., 0., 0., 0.])"
      ]
     },
     "execution_count": 25,
     "metadata": {},
     "output_type": "execute_result"
    }
   ],
   "source": [
    "A1 = np.zeros(40)\n",
    "print(\"Array A1\")\n",
    "A1"
   ]
  },
  {
   "cell_type": "code",
   "execution_count": 26,
   "id": "19676382",
   "metadata": {},
   "outputs": [
    {
     "name": "stdout",
     "output_type": "stream",
     "text": [
      "Array A2\n"
     ]
    },
    {
     "data": {
      "text/plain": [
       "array([[0., 0., 0., 0., 0.],\n",
       "       [0., 0., 0., 0., 0.],\n",
       "       [0., 0., 0., 0., 0.],\n",
       "       [0., 0., 0., 0., 0.],\n",
       "       [0., 0., 0., 0., 0.],\n",
       "       [0., 0., 0., 0., 0.],\n",
       "       [0., 0., 0., 0., 0.],\n",
       "       [0., 0., 0., 0., 0.]])"
      ]
     },
     "execution_count": 26,
     "metadata": {},
     "output_type": "execute_result"
    }
   ],
   "source": [
    "A2 = np.zeros((8,5))\n",
    "print(\"Array A2\")\n",
    "A2"
   ]
  },
  {
   "cell_type": "code",
   "execution_count": 27,
   "id": "29a51a6f",
   "metadata": {},
   "outputs": [
    {
     "name": "stdout",
     "output_type": "stream",
     "text": [
      "Array A3\n"
     ]
    },
    {
     "data": {
      "text/plain": [
       "array([[0., 0., 1., 0., 0.],\n",
       "       [0., 0., 1., 0., 0.],\n",
       "       [0., 0., 1., 0., 0.],\n",
       "       [0., 0., 1., 0., 0.],\n",
       "       [0., 0., 1., 0., 0.],\n",
       "       [0., 0., 1., 0., 0.],\n",
       "       [0., 0., 1., 0., 0.],\n",
       "       [0., 0., 1., 0., 0.]])"
      ]
     },
     "execution_count": 27,
     "metadata": {},
     "output_type": "execute_result"
    }
   ],
   "source": [
    "A3 = np.zeros((8,5))\n",
    "A3[:, 2] = 1\n",
    "print(\"Array A3\")\n",
    "A3"
   ]
  },
  {
   "cell_type": "markdown",
   "id": "50f67f27-7947-491c-b22a-970013c9d777",
   "metadata": {},
   "source": [
    "### 2. Create a vector with values ranging from 1 to 40 \n",
    "(a) create in one dimension, as array B1  \n",
    "(b) create in two dimenion with 8 rows and 5 columns, as array B2  \n",
    "(c) create a new array B3 by adding B2 with A3 (,or increase all values of fourth column of B2 by 1)  \n",
    "(d) create a new array B4 with the values from B3 subtracted by 11   \n",
    "Print B1, B2, B3, and B4\n",
    "<pre>\n",
    "Array B1:\n",
    " [ 1  2  3  4  5  6  7  8  9 10 11 12 13 14 15 16 17 18 19 20 21 22 23 24\n",
    " 25 26 27 28 29 30 31 32 33 34 35 36 37 38 39 40]\n",
    "Array B2:\n",
    " [[ 1  2  3  4  5]\n",
    " [ 6  7  8  9 10]\n",
    " [11 12 13 14 15]\n",
    " [16 17 18 19 20]\n",
    " [21 22 23 24 25]\n",
    " [26 27 28 29 30]\n",
    " [31 32 33 34 35]\n",
    " [36 37 38 39 40]]\n",
    "Array B3:\n",
    " [[ 1.  2.  4.  4.  5.]\n",
    " [ 6.  7.  9.  9. 10.]\n",
    " [11. 12. 14. 14. 15.]\n",
    " [16. 17. 19. 19. 20.]\n",
    " [21. 22. 24. 24. 25.]\n",
    " [26. 27. 29. 29. 30.]\n",
    " [31. 32. 34. 34. 35.]\n",
    " [36. 37. 39. 39. 40.]]\n",
    "Array B4:\n",
    " [[-10.  -9.  -7.  -7.  -6.]\n",
    " [ -5.  -4.  -2.  -2.  -1.]\n",
    " [  0.   1.   3.   3.   4.]\n",
    " [  5.   6.   8.   8.   9.]\n",
    " [ 10.  11.  13.  13.  14.]\n",
    " [ 15.  16.  18.  18.  19.]\n",
    " [ 20.  21.  23.  23.  24.]\n",
    " [ 25.  26.  28.  28.  29.]]\n",
    " </pre>"
   ]
  },
  {
   "cell_type": "code",
   "execution_count": 28,
   "id": "fe1d1040",
   "metadata": {},
   "outputs": [
    {
     "name": "stdout",
     "output_type": "stream",
     "text": [
      "Array B1\n"
     ]
    },
    {
     "data": {
      "text/plain": [
       "array([ 1,  2,  3,  4,  5,  6,  7,  8,  9, 10, 11, 12, 13, 14, 15, 16, 17,\n",
       "       18, 19, 20, 21, 22, 23, 24, 25, 26, 27, 28, 29, 30, 31, 32, 33, 34,\n",
       "       35, 36, 37, 38, 39, 40])"
      ]
     },
     "execution_count": 28,
     "metadata": {},
     "output_type": "execute_result"
    }
   ],
   "source": [
    "B1 = (np.arange(40) + 1)\n",
    "print(\"Array B1\")\n",
    "B1"
   ]
  },
  {
   "cell_type": "code",
   "execution_count": 29,
   "id": "54268051",
   "metadata": {},
   "outputs": [
    {
     "name": "stdout",
     "output_type": "stream",
     "text": [
      "Array B2\n"
     ]
    },
    {
     "data": {
      "text/plain": [
       "array([[ 1,  2,  3,  4,  5],\n",
       "       [ 6,  7,  8,  9, 10],\n",
       "       [11, 12, 13, 14, 15],\n",
       "       [16, 17, 18, 19, 20],\n",
       "       [21, 22, 23, 24, 25],\n",
       "       [26, 27, 28, 29, 30],\n",
       "       [31, 32, 33, 34, 35],\n",
       "       [36, 37, 38, 39, 40]])"
      ]
     },
     "execution_count": 29,
     "metadata": {},
     "output_type": "execute_result"
    }
   ],
   "source": [
    "B2 = np.arange(40).reshape(8,5) + 1\n",
    "print(\"Array B2\")\n",
    "B2"
   ]
  },
  {
   "cell_type": "code",
   "execution_count": 30,
   "id": "c8dbacc4",
   "metadata": {},
   "outputs": [],
   "source": [
    "#B2 = [[1, 2, 3, 4 ,5], [6, 7, 8, 9, 10], [11, 12, 13, 14 ,15], [16, 17, 18, 19, 20], [21, 22, 23, 24 ,25], [26, 27, 28, 29, 30], [31, 32, 33, 34 ,35], [36, 37, 38, 39, 40]]"
   ]
  },
  {
   "cell_type": "code",
   "execution_count": 31,
   "id": "7e3e1067",
   "metadata": {},
   "outputs": [
    {
     "name": "stdout",
     "output_type": "stream",
     "text": [
      "Array B3\n"
     ]
    },
    {
     "data": {
      "text/plain": [
       "array([[ 1.,  2.,  4.,  4.,  5.],\n",
       "       [ 6.,  7.,  9.,  9., 10.],\n",
       "       [11., 12., 14., 14., 15.],\n",
       "       [16., 17., 19., 19., 20.],\n",
       "       [21., 22., 24., 24., 25.],\n",
       "       [26., 27., 29., 29., 30.],\n",
       "       [31., 32., 34., 34., 35.],\n",
       "       [36., 37., 39., 39., 40.]])"
      ]
     },
     "execution_count": 31,
     "metadata": {},
     "output_type": "execute_result"
    }
   ],
   "source": [
    "B3 = B2 + A3\n",
    "#Alternative Option...make B3 a copy of B2 then slice it to then add 1 to add values in the third column (index 2)\n",
    "print(\"Array B3\")\n",
    "B3"
   ]
  },
  {
   "cell_type": "code",
   "execution_count": 32,
   "id": "3ab3af26",
   "metadata": {},
   "outputs": [
    {
     "name": "stdout",
     "output_type": "stream",
     "text": [
      "Array B4\n"
     ]
    },
    {
     "data": {
      "text/plain": [
       "array([[-10.,  -9.,  -7.,  -7.,  -6.],\n",
       "       [ -5.,  -4.,  -2.,  -2.,  -1.],\n",
       "       [  0.,   1.,   3.,   3.,   4.],\n",
       "       [  5.,   6.,   8.,   8.,   9.],\n",
       "       [ 10.,  11.,  13.,  13.,  14.],\n",
       "       [ 15.,  16.,  18.,  18.,  19.],\n",
       "       [ 20.,  21.,  23.,  23.,  24.],\n",
       "       [ 25.,  26.,  28.,  28.,  29.]])"
      ]
     },
     "execution_count": 32,
     "metadata": {},
     "output_type": "execute_result"
    }
   ],
   "source": [
    "B4 = B3 - 11\n",
    "print(\"Array B4\")\n",
    "B4"
   ]
  },
  {
   "cell_type": "markdown",
   "id": "de5cff07-6112-438b-9d95-f8ca14039a3b",
   "metadata": {},
   "source": [
    "### 3. Create a 12x12 matrix and fill it with a checkerboard pattern\n",
    "(a) first row and first column starts from 0    \n",
    "(b) first row and first column starts from 1  \n",
    "(c) with all numbers are 1 (integer)  \n",
    "(c) with all numbers are 1.0 (floating-point)  \n",
    "Print all matrix above.\n",
    "\n",
    "<pre>\n",
    "Checkerboard pattern starts from 0:\n",
    "[[0 1 0 1 0 1 0 1 0 1 0 1]\n",
    " [1 0 1 0 1 0 1 0 1 0 1 0]\n",
    " [0 1 0 1 0 1 0 1 0 1 0 1]\n",
    " [1 0 1 0 1 0 1 0 1 0 1 0]\n",
    " [0 1 0 1 0 1 0 1 0 1 0 1]\n",
    " [1 0 1 0 1 0 1 0 1 0 1 0]\n",
    " [0 1 0 1 0 1 0 1 0 1 0 1]\n",
    " [1 0 1 0 1 0 1 0 1 0 1 0]\n",
    " [0 1 0 1 0 1 0 1 0 1 0 1]\n",
    " [1 0 1 0 1 0 1 0 1 0 1 0]\n",
    " [0 1 0 1 0 1 0 1 0 1 0 1]\n",
    " [1 0 1 0 1 0 1 0 1 0 1 0]]\n",
    "\n",
    "Checkerboard pattern starts from 1:\n",
    "[[1 0 1 0 1 0 1 0 1 0 1 0]\n",
    " [0 1 0 1 0 1 0 1 0 1 0 1]\n",
    " [1 0 1 0 1 0 1 0 1 0 1 0]\n",
    " [0 1 0 1 0 1 0 1 0 1 0 1]\n",
    " [1 0 1 0 1 0 1 0 1 0 1 0]\n",
    " [0 1 0 1 0 1 0 1 0 1 0 1]\n",
    " [1 0 1 0 1 0 1 0 1 0 1 0]\n",
    " [0 1 0 1 0 1 0 1 0 1 0 1]\n",
    " [1 0 1 0 1 0 1 0 1 0 1 0]\n",
    " [0 1 0 1 0 1 0 1 0 1 0 1]\n",
    " [1 0 1 0 1 0 1 0 1 0 1 0]\n",
    " [0 1 0 1 0 1 0 1 0 1 0 1]]\n",
    "\n",
    "All integer ones:\n",
    "[[1 1 1 1 1 1 1 1 1 1 1 1]\n",
    " [1 1 1 1 1 1 1 1 1 1 1 1]\n",
    " [1 1 1 1 1 1 1 1 1 1 1 1]\n",
    " [1 1 1 1 1 1 1 1 1 1 1 1]\n",
    " [1 1 1 1 1 1 1 1 1 1 1 1]\n",
    " [1 1 1 1 1 1 1 1 1 1 1 1]\n",
    " [1 1 1 1 1 1 1 1 1 1 1 1]\n",
    " [1 1 1 1 1 1 1 1 1 1 1 1]\n",
    " [1 1 1 1 1 1 1 1 1 1 1 1]\n",
    " [1 1 1 1 1 1 1 1 1 1 1 1]\n",
    " [1 1 1 1 1 1 1 1 1 1 1 1]\n",
    " [1 1 1 1 1 1 1 1 1 1 1 1]]\n",
    "\n",
    "All floating-point ones:\n",
    "[[1. 1. 1. 1. 1. 1. 1. 1. 1. 1. 1. 1.]\n",
    " [1. 1. 1. 1. 1. 1. 1. 1. 1. 1. 1. 1.]\n",
    " [1. 1. 1. 1. 1. 1. 1. 1. 1. 1. 1. 1.]\n",
    " [1. 1. 1. 1. 1. 1. 1. 1. 1. 1. 1. 1.]\n",
    " [1. 1. 1. 1. 1. 1. 1. 1. 1. 1. 1. 1.]\n",
    " [1. 1. 1. 1. 1. 1. 1. 1. 1. 1. 1. 1.]\n",
    " [1. 1. 1. 1. 1. 1. 1. 1. 1. 1. 1. 1.]\n",
    " [1. 1. 1. 1. 1. 1. 1. 1. 1. 1. 1. 1.]\n",
    " [1. 1. 1. 1. 1. 1. 1. 1. 1. 1. 1. 1.]\n",
    " [1. 1. 1. 1. 1. 1. 1. 1. 1. 1. 1. 1.]\n",
    " [1. 1. 1. 1. 1. 1. 1. 1. 1. 1. 1. 1.]\n",
    " [1. 1. 1. 1. 1. 1. 1. 1. 1. 1. 1. 1.]]\n",
    " </pre>"
   ]
  },
  {
   "cell_type": "code",
   "execution_count": 33,
   "id": "54c81c1e",
   "metadata": {},
   "outputs": [
    {
     "name": "stdout",
     "output_type": "stream",
     "text": [
      "Checkerboard pattern starts from 0:\n"
     ]
    },
    {
     "data": {
      "text/plain": [
       "[[0, 1, 0, 1, 0, 1, 0, 1, 0, 1, 0, 1],\n",
       " [1, 0, 1, 0, 1, 0, 1, 0, 1, 0, 1, 0],\n",
       " [0, 1, 0, 1, 0, 1, 0, 1, 0, 1, 0, 1],\n",
       " [1, 0, 1, 0, 1, 0, 1, 0, 1, 0, 1, 0],\n",
       " [0, 1, 0, 1, 0, 1, 0, 1, 0, 1, 0, 1],\n",
       " [1, 0, 1, 0, 1, 0, 1, 0, 1, 0, 1, 0],\n",
       " [0, 1, 0, 1, 0, 1, 0, 1, 0, 1, 0, 1],\n",
       " [1, 0, 1, 0, 1, 0, 1, 0, 1, 0, 1, 0],\n",
       " [0, 1, 0, 1, 0, 1, 0, 1, 0, 1, 0, 1],\n",
       " [1, 0, 1, 0, 1, 0, 1, 0, 1, 0, 1, 0],\n",
       " [0, 1, 0, 1, 0, 1, 0, 1, 0, 1, 0, 1],\n",
       " [1, 0, 1, 0, 1, 0, 1, 0, 1, 0, 1, 0]]"
      ]
     },
     "execution_count": 33,
     "metadata": {},
     "output_type": "execute_result"
    }
   ],
   "source": [
    "checkerboard1 = [[0]*12 for i in range(12)]\n",
    "for i in range(0,12,1):\n",
    "    for j in range(0,12,1):\n",
    "        if(i%2==0):\n",
    "            if(j%2==1):\n",
    "                checkerboard1[i][j] = 1\n",
    "        if(i%2==1):\n",
    "            if(j%2==0):\n",
    "                checkerboard1[i][j] = 1\n",
    "print(\"Checkerboard pattern starts from 0:\")\n",
    "checkerboard1"
   ]
  },
  {
   "cell_type": "code",
   "execution_count": 34,
   "id": "79d8dddd",
   "metadata": {},
   "outputs": [
    {
     "name": "stdout",
     "output_type": "stream",
     "text": [
      "Checkerboard pattern starts from 1:\n"
     ]
    },
    {
     "data": {
      "text/plain": [
       "[[1, 0, 1, 0, 1, 0, 1, 0, 1, 0, 1, 0],\n",
       " [0, 1, 0, 1, 0, 1, 0, 1, 0, 1, 0, 1],\n",
       " [1, 0, 1, 0, 1, 0, 1, 0, 1, 0, 1, 0],\n",
       " [0, 1, 0, 1, 0, 1, 0, 1, 0, 1, 0, 1],\n",
       " [1, 0, 1, 0, 1, 0, 1, 0, 1, 0, 1, 0],\n",
       " [0, 1, 0, 1, 0, 1, 0, 1, 0, 1, 0, 1],\n",
       " [1, 0, 1, 0, 1, 0, 1, 0, 1, 0, 1, 0],\n",
       " [0, 1, 0, 1, 0, 1, 0, 1, 0, 1, 0, 1],\n",
       " [1, 0, 1, 0, 1, 0, 1, 0, 1, 0, 1, 0],\n",
       " [0, 1, 0, 1, 0, 1, 0, 1, 0, 1, 0, 1],\n",
       " [1, 0, 1, 0, 1, 0, 1, 0, 1, 0, 1, 0],\n",
       " [0, 1, 0, 1, 0, 1, 0, 1, 0, 1, 0, 1]]"
      ]
     },
     "execution_count": 34,
     "metadata": {},
     "output_type": "execute_result"
    }
   ],
   "source": [
    "checkerboard2 = [[0]*12 for i in range(12)]\n",
    "for i in range(0,12,1):\n",
    "    for j in range(0,12,1):\n",
    "        if(i%2==0):\n",
    "            if(j%2==0):\n",
    "                checkerboard2[i][j] = 1\n",
    "        if(i%2==1):\n",
    "            if(j%2==1):\n",
    "                checkerboard2[i][j] = 1\n",
    "print(\"Checkerboard pattern starts from 1:\")\n",
    "checkerboard2"
   ]
  },
  {
   "cell_type": "code",
   "execution_count": 35,
   "id": "b2b9ab21",
   "metadata": {},
   "outputs": [
    {
     "name": "stdout",
     "output_type": "stream",
     "text": [
      "All integer 1's\n"
     ]
    },
    {
     "data": {
      "text/plain": [
       "[[1, 1, 1, 1, 1, 1, 1, 1, 1, 1, 1, 1],\n",
       " [1, 1, 1, 1, 1, 1, 1, 1, 1, 1, 1, 1],\n",
       " [1, 1, 1, 1, 1, 1, 1, 1, 1, 1, 1, 1],\n",
       " [1, 1, 1, 1, 1, 1, 1, 1, 1, 1, 1, 1],\n",
       " [1, 1, 1, 1, 1, 1, 1, 1, 1, 1, 1, 1],\n",
       " [1, 1, 1, 1, 1, 1, 1, 1, 1, 1, 1, 1],\n",
       " [1, 1, 1, 1, 1, 1, 1, 1, 1, 1, 1, 1],\n",
       " [1, 1, 1, 1, 1, 1, 1, 1, 1, 1, 1, 1],\n",
       " [1, 1, 1, 1, 1, 1, 1, 1, 1, 1, 1, 1],\n",
       " [1, 1, 1, 1, 1, 1, 1, 1, 1, 1, 1, 1],\n",
       " [1, 1, 1, 1, 1, 1, 1, 1, 1, 1, 1, 1],\n",
       " [1, 1, 1, 1, 1, 1, 1, 1, 1, 1, 1, 1]]"
      ]
     },
     "execution_count": 35,
     "metadata": {},
     "output_type": "execute_result"
    }
   ],
   "source": [
    "checkerboard3 = [[1]*12 for i in range(12)]\n",
    "print(\"All integer 1's\")\n",
    "checkerboard3"
   ]
  },
  {
   "cell_type": "code",
   "execution_count": 36,
   "id": "2b91ac52",
   "metadata": {},
   "outputs": [
    {
     "name": "stdout",
     "output_type": "stream",
     "text": [
      "All floating-point 1's\n"
     ]
    },
    {
     "data": {
      "text/plain": [
       "[[1.0, 1.0, 1.0, 1.0, 1.0, 1.0, 1.0, 1.0, 1.0, 1.0, 1.0, 1.0],\n",
       " [1.0, 1.0, 1.0, 1.0, 1.0, 1.0, 1.0, 1.0, 1.0, 1.0, 1.0, 1.0],\n",
       " [1.0, 1.0, 1.0, 1.0, 1.0, 1.0, 1.0, 1.0, 1.0, 1.0, 1.0, 1.0],\n",
       " [1.0, 1.0, 1.0, 1.0, 1.0, 1.0, 1.0, 1.0, 1.0, 1.0, 1.0, 1.0],\n",
       " [1.0, 1.0, 1.0, 1.0, 1.0, 1.0, 1.0, 1.0, 1.0, 1.0, 1.0, 1.0],\n",
       " [1.0, 1.0, 1.0, 1.0, 1.0, 1.0, 1.0, 1.0, 1.0, 1.0, 1.0, 1.0],\n",
       " [1.0, 1.0, 1.0, 1.0, 1.0, 1.0, 1.0, 1.0, 1.0, 1.0, 1.0, 1.0],\n",
       " [1.0, 1.0, 1.0, 1.0, 1.0, 1.0, 1.0, 1.0, 1.0, 1.0, 1.0, 1.0],\n",
       " [1.0, 1.0, 1.0, 1.0, 1.0, 1.0, 1.0, 1.0, 1.0, 1.0, 1.0, 1.0],\n",
       " [1.0, 1.0, 1.0, 1.0, 1.0, 1.0, 1.0, 1.0, 1.0, 1.0, 1.0, 1.0],\n",
       " [1.0, 1.0, 1.0, 1.0, 1.0, 1.0, 1.0, 1.0, 1.0, 1.0, 1.0, 1.0],\n",
       " [1.0, 1.0, 1.0, 1.0, 1.0, 1.0, 1.0, 1.0, 1.0, 1.0, 1.0, 1.0]]"
      ]
     },
     "execution_count": 36,
     "metadata": {},
     "output_type": "execute_result"
    }
   ],
   "source": [
    "checkerboard4 = [[1.]*12 for i in range(12)]\n",
    "print(\"All floating-point 1's\")\n",
    "checkerboard4"
   ]
  },
  {
   "cell_type": "markdown",
   "id": "ab5f2cbe-410f-4429-9983-38e2a53c8cd8",
   "metadata": {},
   "source": [
    "### 4. Create a matrix, block segments, and integrations\n",
    "(a) create matrix X of 3 rows and 12 columns of random integers range [0,100]     \n",
    "(b) create matrix XA of 3 rows and 3 columns of subset matrix of X with all rows, and the first three columns (0 to 2)   \n",
    "(c) create matrix XB of 3 rows and 3 columns of subset matrix of X with all rows, and the second quarter columns (3 to 5)   \n",
    "(d) create matrix XC of 3 rows and 3 columns of subset matrix of X with all rows, and tbe third quarter columns (6 to 8)   \n",
    "(e) create matrix XD of 3 rows and 3 columns of subset matrix of X with all rows, and tbe fourth quarter columns (9 to 11)   \n",
    "(f) create matrix Y of 3 rows and 12 columns by putting together in the order of XD XA XB XC from column index 0 to 11  \n",
    "(g) create matrix Z of 12 rows and 3 columns by putting together vertically in the order of XD XA XB XC\n",
    "\n",
    ">Hint: Use np.concatenate() to put two matrixes together (avaible from reading assignments.) \n",
    "\n",
    "<pre>\n",
    "Matrix X:\n",
    "[[ 3 54 99 72 41 64 54 48 57 15 51 73]\n",
    " [59 28 95 93 75 88 21 79 98 83 75 61]\n",
    " [ 0 70 54 40 37 38 68 67 90 58 46 58]]\n",
    "Matrix XA:\n",
    "[[ 3 54 99]\n",
    " [59 28 95]\n",
    " [ 0 70 54]]\n",
    "Matrix XB:\n",
    "[[72 41 64]\n",
    " [93 75 88]\n",
    " [40 37 38]]\n",
    "Matrix XC:\n",
    "[[54 48 57]\n",
    " [21 79 98]\n",
    " [68 67 90]]\n",
    "Matrix XD:\n",
    "[[15 51 73]\n",
    " [83 75 61]\n",
    " [58 46 58]]\n",
    "Matrix Y:\n",
    "[[15 51 73  3 54 99 72 41 64 54 48 57]\n",
    " [83 75 61 59 28 95 93 75 88 21 79 98]\n",
    " [58 46 58  0 70 54 40 37 38 68 67 90]]\n",
    "Matrix Z:\n",
    "[[15 51 73]\n",
    " [83 75 61]\n",
    " [58 46 58]\n",
    " [ 3 54 99]\n",
    " [59 28 95]\n",
    " [ 0 70 54]\n",
    " [72 41 64]\n",
    " [93 75 88]\n",
    " [40 37 38]\n",
    " [54 48 57]\n",
    " [21 79 98]\n",
    " [68 67 90]]\n",
    " </pre>"
   ]
  },
  {
   "cell_type": "code",
   "execution_count": 37,
   "id": "1f1f636e",
   "metadata": {},
   "outputs": [
    {
     "name": "stdout",
     "output_type": "stream",
     "text": [
      "Matrix X\n"
     ]
    },
    {
     "data": {
      "text/plain": [
       "array([[87, 28, 74, 28, 67, 84, 10, 74, 12, 63, 63, 42],\n",
       "       [89, 98, 85, 87, 65,  9, 15, 89, 24, 68, 24,  1],\n",
       "       [72, 92, 18, 88, 90,  7, 93, 13, 97, 59, 47, 70]])"
      ]
     },
     "execution_count": 37,
     "metadata": {},
     "output_type": "execute_result"
    }
   ],
   "source": [
    "X = np.random.randint(100, size=(3,12))\n",
    "print(\"Matrix X\")\n",
    "X"
   ]
  },
  {
   "cell_type": "code",
   "execution_count": 38,
   "id": "628928bd",
   "metadata": {},
   "outputs": [
    {
     "name": "stdout",
     "output_type": "stream",
     "text": [
      "Matrix XA\n"
     ]
    },
    {
     "data": {
      "text/plain": [
       "array([[87, 28, 74],\n",
       "       [89, 98, 85],\n",
       "       [72, 92, 18]])"
      ]
     },
     "execution_count": 38,
     "metadata": {},
     "output_type": "execute_result"
    }
   ],
   "source": [
    "XA = X[:,:3]\n",
    "print(\"Matrix XA\")\n",
    "XA"
   ]
  },
  {
   "cell_type": "code",
   "execution_count": 39,
   "id": "da58dca0",
   "metadata": {},
   "outputs": [
    {
     "name": "stdout",
     "output_type": "stream",
     "text": [
      "Matrix XB\n"
     ]
    },
    {
     "data": {
      "text/plain": [
       "array([[28, 67, 84],\n",
       "       [87, 65,  9],\n",
       "       [88, 90,  7]])"
      ]
     },
     "execution_count": 39,
     "metadata": {},
     "output_type": "execute_result"
    }
   ],
   "source": [
    "XB = X[:,3:6]\n",
    "print(\"Matrix XB\")\n",
    "XB"
   ]
  },
  {
   "cell_type": "code",
   "execution_count": 40,
   "id": "0d26b437",
   "metadata": {},
   "outputs": [
    {
     "name": "stdout",
     "output_type": "stream",
     "text": [
      "Matrix XC\n"
     ]
    },
    {
     "data": {
      "text/plain": [
       "array([[10, 74, 12],\n",
       "       [15, 89, 24],\n",
       "       [93, 13, 97]])"
      ]
     },
     "execution_count": 40,
     "metadata": {},
     "output_type": "execute_result"
    }
   ],
   "source": [
    "XC = X[:,6:9]\n",
    "print(\"Matrix XC\")\n",
    "XC"
   ]
  },
  {
   "cell_type": "code",
   "execution_count": 41,
   "id": "2b5f800d",
   "metadata": {},
   "outputs": [
    {
     "name": "stdout",
     "output_type": "stream",
     "text": [
      "Matrix XD\n"
     ]
    },
    {
     "data": {
      "text/plain": [
       "array([[63, 63, 42],\n",
       "       [68, 24,  1],\n",
       "       [59, 47, 70]])"
      ]
     },
     "execution_count": 41,
     "metadata": {},
     "output_type": "execute_result"
    }
   ],
   "source": [
    "XD = X[:,9:12]\n",
    "print(\"Matrix XD\")\n",
    "XD"
   ]
  },
  {
   "cell_type": "code",
   "execution_count": 42,
   "id": "9105c089",
   "metadata": {},
   "outputs": [
    {
     "name": "stdout",
     "output_type": "stream",
     "text": [
      "Matrix Y\n"
     ]
    },
    {
     "data": {
      "text/plain": [
       "array([[63, 63, 42, 87, 28, 74, 28, 67, 84, 10, 74, 12],\n",
       "       [68, 24,  1, 89, 98, 85, 87, 65,  9, 15, 89, 24],\n",
       "       [59, 47, 70, 72, 92, 18, 88, 90,  7, 93, 13, 97]])"
      ]
     },
     "execution_count": 42,
     "metadata": {},
     "output_type": "execute_result"
    }
   ],
   "source": [
    "Y = np.concatenate((XD, XA, XB, XC), axis = 1)\n",
    "print(\"Matrix Y\")\n",
    "Y"
   ]
  },
  {
   "cell_type": "code",
   "execution_count": 43,
   "id": "5df457b5",
   "metadata": {},
   "outputs": [
    {
     "name": "stdout",
     "output_type": "stream",
     "text": [
      "Matrix Z\n"
     ]
    },
    {
     "data": {
      "text/plain": [
       "array([[63, 63, 42],\n",
       "       [68, 24,  1],\n",
       "       [59, 47, 70],\n",
       "       [87, 28, 74],\n",
       "       [89, 98, 85],\n",
       "       [72, 92, 18],\n",
       "       [28, 67, 84],\n",
       "       [87, 65,  9],\n",
       "       [88, 90,  7],\n",
       "       [10, 74, 12],\n",
       "       [15, 89, 24],\n",
       "       [93, 13, 97]])"
      ]
     },
     "execution_count": 43,
     "metadata": {},
     "output_type": "execute_result"
    }
   ],
   "source": [
    "Z = np.concatenate((XD, XA, XB, XC))\n",
    "print(\"Matrix Z\")\n",
    "Z"
   ]
  },
  {
   "cell_type": "markdown",
   "id": "aba38929-1777-43e2-a9a5-6fc1116d924a",
   "metadata": {},
   "source": [
    "### 5. Create the following two matrixes in the program\n",
    "<pre>\n",
    "A = [[1 2]\n",
    "     [3 4]\n",
    "     [5 6]\n",
    "     [7 8]]\n",
    "B = [[ 9 10 11 12]\n",
    "     [13 14 15 16]]\n",
    "</pre>\n",
    "and do the matrix multiplication where C = AB  \n",
    "Print matrixes A, B, and C.\n",
    "\n",
    "<pre>\n",
    "Matrix A:\n",
    "[[1 2]\n",
    " [3 4]\n",
    " [5 6]\n",
    " [7 8]]\n",
    "Matrix B:\n",
    "[[ 9 10 11 12]\n",
    " [13 14 15 16]]\n",
    "Matrix C:\n",
    "[[ 35  38  41  44]\n",
    " [ 79  86  93 100]\n",
    " [123 134 145 156]\n",
    " [167 182 197 212]]\n",
    " </pre>"
   ]
  },
  {
   "cell_type": "code",
   "execution_count": 44,
   "id": "29e17a3c",
   "metadata": {},
   "outputs": [
    {
     "name": "stdout",
     "output_type": "stream",
     "text": [
      "Matrix A\n"
     ]
    },
    {
     "data": {
      "text/plain": [
       "array([[1, 2],\n",
       "       [3, 4],\n",
       "       [5, 6],\n",
       "       [7, 8]])"
      ]
     },
     "execution_count": 44,
     "metadata": {},
     "output_type": "execute_result"
    }
   ],
   "source": [
    "A = np.arange(8).reshape(4,2) + 1\n",
    "print(\"Matrix A\")\n",
    "A"
   ]
  },
  {
   "cell_type": "code",
   "execution_count": 45,
   "id": "52bdde6f",
   "metadata": {},
   "outputs": [
    {
     "name": "stdout",
     "output_type": "stream",
     "text": [
      "Matrix B\n"
     ]
    },
    {
     "data": {
      "text/plain": [
       "array([[ 9, 10, 11, 12],\n",
       "       [13, 14, 15, 16]])"
      ]
     },
     "execution_count": 45,
     "metadata": {},
     "output_type": "execute_result"
    }
   ],
   "source": [
    "B = np.arange(8).reshape(2,4) + 9\n",
    "print(\"Matrix B\")\n",
    "B"
   ]
  },
  {
   "cell_type": "code",
   "execution_count": 46,
   "id": "a19f85fa",
   "metadata": {},
   "outputs": [
    {
     "name": "stdout",
     "output_type": "stream",
     "text": [
      "Matrix C\n"
     ]
    },
    {
     "data": {
      "text/plain": [
       "array([[ 35,  38,  41,  44],\n",
       "       [ 79,  86,  93, 100],\n",
       "       [123, 134, 145, 156],\n",
       "       [167, 182, 197, 212]])"
      ]
     },
     "execution_count": 46,
     "metadata": {},
     "output_type": "execute_result"
    }
   ],
   "source": [
    "C = np.dot(A,B)\n",
    "print(\"Matrix C\")\n",
    "C"
   ]
  },
  {
   "cell_type": "markdown",
   "id": "b7be65b3-560f-444d-a52a-cc63eba0c7df",
   "metadata": {},
   "source": [
    "### 6. Create 7x7 matrixes   \n",
    "(a) P matrix with row values ranging from 0 to 6       \n",
    "(b) Q matrix with column values ranging from 0 to 6   \n",
    "(c) R matrix with cumulative sum from previous row of matrix Q  \n",
    "(d) S matrix with cumulative sum from previous column of matrix Q  \n",
    "(e) T list with cumulative sun from previous value rolled out in order of row and column from matrix Q  \n",
    "Print matrix P,Q,R,S, and list T\n",
    "\n",
    "<pre>\n",
    "Matrix P:\n",
    "[[0. 1. 2. 3. 4. 5. 6.]\n",
    " [0. 1. 2. 3. 4. 5. 6.]\n",
    " [0. 1. 2. 3. 4. 5. 6.]\n",
    " [0. 1. 2. 3. 4. 5. 6.]\n",
    " [0. 1. 2. 3. 4. 5. 6.]\n",
    " [0. 1. 2. 3. 4. 5. 6.]\n",
    " [0. 1. 2. 3. 4. 5. 6.]]\n",
    "Matrix Q:\n",
    "[[0. 0. 0. 0. 0. 0. 0.]\n",
    " [1. 1. 1. 1. 1. 1. 1.]\n",
    " [2. 2. 2. 2. 2. 2. 2.]\n",
    " [3. 3. 3. 3. 3. 3. 3.]\n",
    " [4. 4. 4. 4. 4. 4. 4.]\n",
    " [5. 5. 5. 5. 5. 5. 5.]\n",
    " [6. 6. 6. 6. 6. 6. 6.]]\n",
    "Matrix R:\n",
    "[[ 0.  0.  0.  0.  0.  0.  0.]\n",
    " [ 1.  1.  1.  1.  1.  1.  1.]\n",
    " [ 3.  3.  3.  3.  3.  3.  3.]\n",
    " [ 6.  6.  6.  6.  6.  6.  6.]\n",
    " [10. 10. 10. 10. 10. 10. 10.]\n",
    " [15. 15. 15. 15. 15. 15. 15.]\n",
    " [21. 21. 21. 21. 21. 21. 21.]]\n",
    "Matrix S:\n",
    "[[ 0.  0.  0.  0.  0.  0.  0.]\n",
    " [ 1.  2.  3.  4.  5.  6.  7.]\n",
    " [ 2.  4.  6.  8. 10. 12. 14.]\n",
    " [ 3.  6.  9. 12. 15. 18. 21.]\n",
    " [ 4.  8. 12. 16. 20. 24. 28.]\n",
    " [ 5. 10. 15. 20. 25. 30. 35.]\n",
    " [ 6. 12. 18. 24. 30. 36. 42.]]\n",
    "List T:\n",
    "[  0.   0.   0.   0.   0.   0.   0.   1.   2.   3.   4.   5.   6.   7.\n",
    "   9.  11.  13.  15.  17.  19.  21.  24.  27.  30.  33.  36.  39.  42.\n",
    "  46.  50.  54.  58.  62.  66.  70.  75.  80.  85.  90.  95. 100. 105.\n",
    " 111. 117. 123. 129. 135. 141. 147.]\n",
    " </pre>"
   ]
  },
  {
   "cell_type": "code",
   "execution_count": 47,
   "id": "94398881",
   "metadata": {},
   "outputs": [
    {
     "name": "stdout",
     "output_type": "stream",
     "text": [
      "Matrix P\n"
     ]
    },
    {
     "data": {
      "text/plain": [
       "array([[0., 1., 2., 3., 4., 5., 6.],\n",
       "       [0., 1., 2., 3., 4., 5., 6.],\n",
       "       [0., 1., 2., 3., 4., 5., 6.],\n",
       "       [0., 1., 2., 3., 4., 5., 6.],\n",
       "       [0., 1., 2., 3., 4., 5., 6.],\n",
       "       [0., 1., 2., 3., 4., 5., 6.],\n",
       "       [0., 1., 2., 3., 4., 5., 6.]])"
      ]
     },
     "execution_count": 47,
     "metadata": {},
     "output_type": "execute_result"
    }
   ],
   "source": [
    "P = np.empty((7,7))\n",
    "for i in range(0,7,1):\n",
    "    for j in range(0,7,1):\n",
    "        P[i][j] = j\n",
    "print(\"Matrix P\")\n",
    "P"
   ]
  },
  {
   "cell_type": "code",
   "execution_count": 48,
   "id": "02f79eaf",
   "metadata": {},
   "outputs": [
    {
     "name": "stdout",
     "output_type": "stream",
     "text": [
      "Matrix Q\n"
     ]
    },
    {
     "data": {
      "text/plain": [
       "array([[0., 0., 0., 0., 0., 0., 0.],\n",
       "       [1., 1., 1., 1., 1., 1., 1.],\n",
       "       [2., 2., 2., 2., 2., 2., 2.],\n",
       "       [3., 3., 3., 3., 3., 3., 3.],\n",
       "       [4., 4., 4., 4., 4., 4., 4.],\n",
       "       [5., 5., 5., 5., 5., 5., 5.],\n",
       "       [6., 6., 6., 6., 6., 6., 6.]])"
      ]
     },
     "execution_count": 48,
     "metadata": {},
     "output_type": "execute_result"
    }
   ],
   "source": [
    "Q = np.empty((7,7))\n",
    "for i in range(7):\n",
    "    Q[i] = i\n",
    "print(\"Matrix Q\")\n",
    "Q"
   ]
  },
  {
   "cell_type": "code",
   "execution_count": 49,
   "id": "a2e6fd61",
   "metadata": {},
   "outputs": [
    {
     "name": "stdout",
     "output_type": "stream",
     "text": [
      "Matrix R\n"
     ]
    },
    {
     "data": {
      "text/plain": [
       "array([[ 0.,  0.,  0.,  0.,  0.,  0.,  0.],\n",
       "       [ 1.,  1.,  1.,  1.,  1.,  1.,  1.],\n",
       "       [ 3.,  3.,  3.,  3.,  3.,  3.,  3.],\n",
       "       [ 6.,  6.,  6.,  6.,  6.,  6.,  6.],\n",
       "       [10., 10., 10., 10., 10., 10., 10.],\n",
       "       [15., 15., 15., 15., 15., 15., 15.],\n",
       "       [21., 21., 21., 21., 21., 21., 21.]])"
      ]
     },
     "execution_count": 49,
     "metadata": {},
     "output_type": "execute_result"
    }
   ],
   "source": [
    "R = Q.cumsum(axis=0)\n",
    "print(\"Matrix R\")\n",
    "R"
   ]
  },
  {
   "cell_type": "code",
   "execution_count": 51,
   "id": "28c46491",
   "metadata": {},
   "outputs": [
    {
     "name": "stdout",
     "output_type": "stream",
     "text": [
      "Matrix S\n"
     ]
    },
    {
     "data": {
      "text/plain": [
       "array([[ 0.,  0.,  0.,  0.,  0.,  0.,  0.],\n",
       "       [ 1.,  2.,  3.,  4.,  5.,  6.,  7.],\n",
       "       [ 2.,  4.,  6.,  8., 10., 12., 14.],\n",
       "       [ 3.,  6.,  9., 12., 15., 18., 21.],\n",
       "       [ 4.,  8., 12., 16., 20., 24., 28.],\n",
       "       [ 5., 10., 15., 20., 25., 30., 35.],\n",
       "       [ 6., 12., 18., 24., 30., 36., 42.]])"
      ]
     },
     "execution_count": 51,
     "metadata": {},
     "output_type": "execute_result"
    }
   ],
   "source": [
    "S = Q.cumsum(axis=1)\n",
    "print(\"Matrix S\")\n",
    "S"
   ]
  },
  {
   "cell_type": "code",
   "execution_count": 52,
   "id": "78e9c9a5",
   "metadata": {},
   "outputs": [
    {
     "name": "stdout",
     "output_type": "stream",
     "text": [
      "Matrix T\n"
     ]
    },
    {
     "data": {
      "text/plain": [
       "array([  0.,   0.,   0.,   0.,   0.,   0.,   0.,   1.,   2.,   3.,   4.,\n",
       "         5.,   6.,   7.,   9.,  11.,  13.,  15.,  17.,  19.,  21.,  24.,\n",
       "        27.,  30.,  33.,  36.,  39.,  42.,  46.,  50.,  54.,  58.,  62.,\n",
       "        66.,  70.,  75.,  80.,  85.,  90.,  95., 100., 105., 111., 117.,\n",
       "       123., 129., 135., 141., 147.])"
      ]
     },
     "execution_count": 52,
     "metadata": {},
     "output_type": "execute_result"
    }
   ],
   "source": [
    "T = Q.cumsum()\n",
    "print(\"Matrix T\")\n",
    "T"
   ]
  }
 ],
 "metadata": {
  "kernelspec": {
   "display_name": "Python 3 (ipykernel)",
   "language": "python",
   "name": "python3"
  },
  "language_info": {
   "codemirror_mode": {
    "name": "ipython",
    "version": 3
   },
   "file_extension": ".py",
   "mimetype": "text/x-python",
   "name": "python",
   "nbconvert_exporter": "python",
   "pygments_lexer": "ipython3",
   "version": "3.11.4"
  }
 },
 "nbformat": 4,
 "nbformat_minor": 5
}
